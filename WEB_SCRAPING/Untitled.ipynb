{
 "cells": [
  {
   "cell_type": "code",
   "id": "b119adc1-33ad-41a4-8195-f35a1aa7d9fa",
   "metadata": {
    "jupyter": {
     "is_executing": true
    }
   },
   "source": [
    "import pandas as pd\n",
    "import requests\n",
    "from bs4 import BeautifulSoup"
   ],
   "outputs": [],
   "execution_count": null
  },
  {
   "cell_type": "markdown",
   "id": "9c431291-59eb-4b87-a8b2-e96f480fb07d",
   "metadata": {},
   "source": [
    "The website's robots.txt file does not allow you to scrape the that so you get 403 error.\n",
    "So disguise as a human by passing suitable headers as arg"
   ]
  },
  {
   "cell_type": "code",
   "id": "41ed5943-7a33-4407-abb2-4ec50b1314cd",
   "metadata": {
    "jupyter": {
     "is_executing": true
    }
   },
   "source": [
    "headers={'User-Agent':'Mozilla/5.0 (Windows NT 6.3; Win 64 ; x64) Apple WeKit /537.36(KHTML , like Gecko) Chrome/80.0.3987.162 Safari/537.36'}\n",
    "requests.get('https://www.ambitionbox.com/list-of-companies?page=1', headers = headers)"
   ],
   "outputs": [],
   "execution_count": null
  },
  {
   "cell_type": "code",
   "execution_count": null,
   "id": "5d5a8d92-0155-4e3c-bc7c-38a81de7c680",
   "metadata": {},
   "outputs": [],
   "source": ""
  }
 ],
 "metadata": {
  "kernelspec": {
   "display_name": "Python 3 (ipykernel)",
   "language": "python",
   "name": "python3"
  },
  "language_info": {
   "codemirror_mode": {
    "name": "ipython",
    "version": 3
   },
   "file_extension": ".py",
   "mimetype": "text/x-python",
   "name": "python",
   "nbconvert_exporter": "python",
   "pygments_lexer": "ipython3",
   "version": "3.11.5"
  }
 },
 "nbformat": 4,
 "nbformat_minor": 5
}
