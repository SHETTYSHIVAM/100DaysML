{
 "cells": [
  {
   "cell_type": "code",
   "execution_count": 1,
   "id": "dfb99110-3942-4739-a427-8e62d652203c",
   "metadata": {},
   "outputs": [],
   "source": [
    "import numpy as np\n",
    "import pandas as pd"
   ]
  },
  {
   "cell_type": "code",
   "execution_count": 2,
   "id": "19125588-fb7e-4d8c-abd5-6bf01e749773",
   "metadata": {},
   "outputs": [],
   "source": [
    "date = pd.read_csv(\"orders.csv\")\n",
    "time = pd.read_csv(\"messages.csv\")"
   ]
  },
  {
   "cell_type": "code",
   "execution_count": 3,
   "id": "aac52388-5c1b-435d-9c47-ac93d802c8da",
   "metadata": {},
   "outputs": [
    {
     "data": {
      "text/html": [
       "<div>\n",
       "<style scoped>\n",
       "    .dataframe tbody tr th:only-of-type {\n",
       "        vertical-align: middle;\n",
       "    }\n",
       "\n",
       "    .dataframe tbody tr th {\n",
       "        vertical-align: top;\n",
       "    }\n",
       "\n",
       "    .dataframe thead th {\n",
       "        text-align: right;\n",
       "    }\n",
       "</style>\n",
       "<table border=\"1\" class=\"dataframe\">\n",
       "  <thead>\n",
       "    <tr style=\"text-align: right;\">\n",
       "      <th></th>\n",
       "      <th>date</th>\n",
       "      <th>product_id</th>\n",
       "      <th>city_id</th>\n",
       "      <th>orders</th>\n",
       "    </tr>\n",
       "  </thead>\n",
       "  <tbody>\n",
       "    <tr>\n",
       "      <th>0</th>\n",
       "      <td>2019-12-10</td>\n",
       "      <td>5628</td>\n",
       "      <td>25</td>\n",
       "      <td>3</td>\n",
       "    </tr>\n",
       "    <tr>\n",
       "      <th>1</th>\n",
       "      <td>2018-08-15</td>\n",
       "      <td>3646</td>\n",
       "      <td>14</td>\n",
       "      <td>157</td>\n",
       "    </tr>\n",
       "    <tr>\n",
       "      <th>2</th>\n",
       "      <td>2018-10-23</td>\n",
       "      <td>1859</td>\n",
       "      <td>25</td>\n",
       "      <td>1</td>\n",
       "    </tr>\n",
       "    <tr>\n",
       "      <th>3</th>\n",
       "      <td>2019-08-17</td>\n",
       "      <td>7292</td>\n",
       "      <td>25</td>\n",
       "      <td>1</td>\n",
       "    </tr>\n",
       "    <tr>\n",
       "      <th>4</th>\n",
       "      <td>2019-01-06</td>\n",
       "      <td>4344</td>\n",
       "      <td>25</td>\n",
       "      <td>3</td>\n",
       "    </tr>\n",
       "  </tbody>\n",
       "</table>\n",
       "</div>"
      ],
      "text/plain": [
       "         date  product_id  city_id  orders\n",
       "0  2019-12-10        5628       25       3\n",
       "1  2018-08-15        3646       14     157\n",
       "2  2018-10-23        1859       25       1\n",
       "3  2019-08-17        7292       25       1\n",
       "4  2019-01-06        4344       25       3"
      ]
     },
     "execution_count": 3,
     "metadata": {},
     "output_type": "execute_result"
    }
   ],
   "source": [
    "date.head()"
   ]
  },
  {
   "cell_type": "code",
   "execution_count": 4,
   "id": "2925a1ab-7816-40f4-9bcd-c8ee90c04d17",
   "metadata": {},
   "outputs": [
    {
     "data": {
      "text/html": [
       "<div>\n",
       "<style scoped>\n",
       "    .dataframe tbody tr th:only-of-type {\n",
       "        vertical-align: middle;\n",
       "    }\n",
       "\n",
       "    .dataframe tbody tr th {\n",
       "        vertical-align: top;\n",
       "    }\n",
       "\n",
       "    .dataframe thead th {\n",
       "        text-align: right;\n",
       "    }\n",
       "</style>\n",
       "<table border=\"1\" class=\"dataframe\">\n",
       "  <thead>\n",
       "    <tr style=\"text-align: right;\">\n",
       "      <th></th>\n",
       "      <th>date</th>\n",
       "      <th>msg</th>\n",
       "    </tr>\n",
       "  </thead>\n",
       "  <tbody>\n",
       "    <tr>\n",
       "      <th>0</th>\n",
       "      <td>2013-12-15 00:50:00</td>\n",
       "      <td>ищу на сегодня мужика 37</td>\n",
       "    </tr>\n",
       "    <tr>\n",
       "      <th>1</th>\n",
       "      <td>2014-04-29 23:40:00</td>\n",
       "      <td>ПАРЕНЬ БИ ИЩЕТ ДРУГА СЕЙЧАС!! СМС ММС 0955532826</td>\n",
       "    </tr>\n",
       "    <tr>\n",
       "      <th>2</th>\n",
       "      <td>2012-12-30 00:21:00</td>\n",
       "      <td>Днепр.м 43 позн.с д/ж *.о  067.16.34.576</td>\n",
       "    </tr>\n",
       "    <tr>\n",
       "      <th>3</th>\n",
       "      <td>2014-11-28 00:31:00</td>\n",
       "      <td>КИЕВ ИЩУ Д/Ж ДО 45 МНЕ СЕЙЧАС СКУЧНО 093 629 9...</td>\n",
       "    </tr>\n",
       "    <tr>\n",
       "      <th>4</th>\n",
       "      <td>2013-10-26 23:11:00</td>\n",
       "      <td>Зая я тебя никогда не обижу  люблю тебя!)  Даше</td>\n",
       "    </tr>\n",
       "  </tbody>\n",
       "</table>\n",
       "</div>"
      ],
      "text/plain": [
       "                  date                                                msg\n",
       "0  2013-12-15 00:50:00                           ищу на сегодня мужика 37\n",
       "1  2014-04-29 23:40:00   ПАРЕНЬ БИ ИЩЕТ ДРУГА СЕЙЧАС!! СМС ММС 0955532826\n",
       "2  2012-12-30 00:21:00           Днепр.м 43 позн.с д/ж *.о  067.16.34.576\n",
       "3  2014-11-28 00:31:00  КИЕВ ИЩУ Д/Ж ДО 45 МНЕ СЕЙЧАС СКУЧНО 093 629 9...\n",
       "4  2013-10-26 23:11:00    Зая я тебя никогда не обижу  люблю тебя!)  Даше"
      ]
     },
     "execution_count": 4,
     "metadata": {},
     "output_type": "execute_result"
    }
   ],
   "source": [
    "time.head()"
   ]
  },
  {
   "cell_type": "code",
   "execution_count": 5,
   "id": "ccadb007-13db-4089-b357-b127b8ee1fc8",
   "metadata": {},
   "outputs": [
    {
     "name": "stdout",
     "output_type": "stream",
     "text": [
      "<class 'pandas.core.frame.DataFrame'>\n",
      "RangeIndex: 1000 entries, 0 to 999\n",
      "Data columns (total 4 columns):\n",
      " #   Column      Non-Null Count  Dtype \n",
      "---  ------      --------------  ----- \n",
      " 0   date        1000 non-null   object\n",
      " 1   product_id  1000 non-null   int64 \n",
      " 2   city_id     1000 non-null   int64 \n",
      " 3   orders      1000 non-null   int64 \n",
      "dtypes: int64(3), object(1)\n",
      "memory usage: 31.4+ KB\n"
     ]
    }
   ],
   "source": [
    "date.info()"
   ]
  },
  {
   "cell_type": "code",
   "execution_count": 6,
   "id": "410fe1e6-6541-4be2-8f0f-f340ea94b703",
   "metadata": {},
   "outputs": [
    {
     "name": "stdout",
     "output_type": "stream",
     "text": [
      "<class 'pandas.core.frame.DataFrame'>\n",
      "RangeIndex: 1000 entries, 0 to 999\n",
      "Data columns (total 2 columns):\n",
      " #   Column  Non-Null Count  Dtype \n",
      "---  ------  --------------  ----- \n",
      " 0   date    1000 non-null   object\n",
      " 1   msg     1000 non-null   object\n",
      "dtypes: object(2)\n",
      "memory usage: 15.8+ KB\n"
     ]
    }
   ],
   "source": [
    "time.info()"
   ]
  },
  {
   "cell_type": "markdown",
   "id": "78a3aa36-db0b-4fff-91d5-0f3569184deb",
   "metadata": {},
   "source": [
    "date and time are stored in object (str) form. which means we can't access the month, year etc from the date"
   ]
  },
  {
   "cell_type": "markdown",
   "id": "9513ce05-3f37-4468-b0e4-0b88291de393",
   "metadata": {},
   "source": [
    "# Working with Dates"
   ]
  },
  {
   "cell_type": "code",
   "execution_count": 7,
   "id": "84664d82-5052-440d-9730-ba35a4295f69",
   "metadata": {},
   "outputs": [],
   "source": [
    "date['date'] = pd.to_datetime(date['date'])"
   ]
  },
  {
   "cell_type": "code",
   "execution_count": 8,
   "id": "b6a9a64c-6c76-4237-8032-49b635a557fd",
   "metadata": {},
   "outputs": [
    {
     "name": "stdout",
     "output_type": "stream",
     "text": [
      "<class 'pandas.core.frame.DataFrame'>\n",
      "RangeIndex: 1000 entries, 0 to 999\n",
      "Data columns (total 4 columns):\n",
      " #   Column      Non-Null Count  Dtype         \n",
      "---  ------      --------------  -----         \n",
      " 0   date        1000 non-null   datetime64[ns]\n",
      " 1   product_id  1000 non-null   int64         \n",
      " 2   city_id     1000 non-null   int64         \n",
      " 3   orders      1000 non-null   int64         \n",
      "dtypes: datetime64[ns](1), int64(3)\n",
      "memory usage: 31.4 KB\n"
     ]
    }
   ],
   "source": [
    "date.info()"
   ]
  },
  {
   "cell_type": "markdown",
   "id": "785b2887-4817-4afa-ba09-235961034566",
   "metadata": {},
   "source": [
    "### 1. Extract Year"
   ]
  },
  {
   "cell_type": "code",
   "execution_count": 13,
   "id": "587feffa-7c31-4644-b5fe-e1cc76021962",
   "metadata": {},
   "outputs": [
    {
     "data": {
      "text/html": [
       "<div>\n",
       "<style scoped>\n",
       "    .dataframe tbody tr th:only-of-type {\n",
       "        vertical-align: middle;\n",
       "    }\n",
       "\n",
       "    .dataframe tbody tr th {\n",
       "        vertical-align: top;\n",
       "    }\n",
       "\n",
       "    .dataframe thead th {\n",
       "        text-align: right;\n",
       "    }\n",
       "</style>\n",
       "<table border=\"1\" class=\"dataframe\">\n",
       "  <thead>\n",
       "    <tr style=\"text-align: right;\">\n",
       "      <th></th>\n",
       "      <th>date</th>\n",
       "      <th>product_id</th>\n",
       "      <th>city_id</th>\n",
       "      <th>orders</th>\n",
       "      <th>date_year</th>\n",
       "    </tr>\n",
       "  </thead>\n",
       "  <tbody>\n",
       "    <tr>\n",
       "      <th>0</th>\n",
       "      <td>2019-12-10</td>\n",
       "      <td>5628</td>\n",
       "      <td>25</td>\n",
       "      <td>3</td>\n",
       "      <td>2019</td>\n",
       "    </tr>\n",
       "    <tr>\n",
       "      <th>1</th>\n",
       "      <td>2018-08-15</td>\n",
       "      <td>3646</td>\n",
       "      <td>14</td>\n",
       "      <td>157</td>\n",
       "      <td>2018</td>\n",
       "    </tr>\n",
       "    <tr>\n",
       "      <th>2</th>\n",
       "      <td>2018-10-23</td>\n",
       "      <td>1859</td>\n",
       "      <td>25</td>\n",
       "      <td>1</td>\n",
       "      <td>2018</td>\n",
       "    </tr>\n",
       "    <tr>\n",
       "      <th>3</th>\n",
       "      <td>2019-08-17</td>\n",
       "      <td>7292</td>\n",
       "      <td>25</td>\n",
       "      <td>1</td>\n",
       "      <td>2019</td>\n",
       "    </tr>\n",
       "    <tr>\n",
       "      <th>4</th>\n",
       "      <td>2019-01-06</td>\n",
       "      <td>4344</td>\n",
       "      <td>25</td>\n",
       "      <td>3</td>\n",
       "      <td>2019</td>\n",
       "    </tr>\n",
       "  </tbody>\n",
       "</table>\n",
       "</div>"
      ],
      "text/plain": [
       "        date  product_id  city_id  orders  date_year\n",
       "0 2019-12-10        5628       25       3       2019\n",
       "1 2018-08-15        3646       14     157       2018\n",
       "2 2018-10-23        1859       25       1       2018\n",
       "3 2019-08-17        7292       25       1       2019\n",
       "4 2019-01-06        4344       25       3       2019"
      ]
     },
     "execution_count": 13,
     "metadata": {},
     "output_type": "execute_result"
    }
   ],
   "source": [
    "date['date_year'] = date['date'].dt.year\n",
    "date.head()"
   ]
  },
  {
   "cell_type": "markdown",
   "id": "cf7b33a0-aaeb-4798-97bb-6a8da6b4c3f1",
   "metadata": {},
   "source": [
    "### 2. Extract Month"
   ]
  },
  {
   "cell_type": "code",
   "execution_count": 17,
   "id": "a7204c8c-a288-4e22-a7c1-762fbd3e072e",
   "metadata": {},
   "outputs": [
    {
     "data": {
      "text/html": [
       "<div>\n",
       "<style scoped>\n",
       "    .dataframe tbody tr th:only-of-type {\n",
       "        vertical-align: middle;\n",
       "    }\n",
       "\n",
       "    .dataframe tbody tr th {\n",
       "        vertical-align: top;\n",
       "    }\n",
       "\n",
       "    .dataframe thead th {\n",
       "        text-align: right;\n",
       "    }\n",
       "</style>\n",
       "<table border=\"1\" class=\"dataframe\">\n",
       "  <thead>\n",
       "    <tr style=\"text-align: right;\">\n",
       "      <th></th>\n",
       "      <th>date</th>\n",
       "      <th>product_id</th>\n",
       "      <th>city_id</th>\n",
       "      <th>orders</th>\n",
       "      <th>date_year</th>\n",
       "      <th>date_month</th>\n",
       "    </tr>\n",
       "  </thead>\n",
       "  <tbody>\n",
       "    <tr>\n",
       "      <th>0</th>\n",
       "      <td>2019-12-10</td>\n",
       "      <td>5628</td>\n",
       "      <td>25</td>\n",
       "      <td>3</td>\n",
       "      <td>2019</td>\n",
       "      <td>12</td>\n",
       "    </tr>\n",
       "    <tr>\n",
       "      <th>1</th>\n",
       "      <td>2018-08-15</td>\n",
       "      <td>3646</td>\n",
       "      <td>14</td>\n",
       "      <td>157</td>\n",
       "      <td>2018</td>\n",
       "      <td>8</td>\n",
       "    </tr>\n",
       "    <tr>\n",
       "      <th>2</th>\n",
       "      <td>2018-10-23</td>\n",
       "      <td>1859</td>\n",
       "      <td>25</td>\n",
       "      <td>1</td>\n",
       "      <td>2018</td>\n",
       "      <td>10</td>\n",
       "    </tr>\n",
       "    <tr>\n",
       "      <th>3</th>\n",
       "      <td>2019-08-17</td>\n",
       "      <td>7292</td>\n",
       "      <td>25</td>\n",
       "      <td>1</td>\n",
       "      <td>2019</td>\n",
       "      <td>8</td>\n",
       "    </tr>\n",
       "    <tr>\n",
       "      <th>4</th>\n",
       "      <td>2019-01-06</td>\n",
       "      <td>4344</td>\n",
       "      <td>25</td>\n",
       "      <td>3</td>\n",
       "      <td>2019</td>\n",
       "      <td>1</td>\n",
       "    </tr>\n",
       "  </tbody>\n",
       "</table>\n",
       "</div>"
      ],
      "text/plain": [
       "        date  product_id  city_id  orders  date_year  date_month\n",
       "0 2019-12-10        5628       25       3       2019          12\n",
       "1 2018-08-15        3646       14     157       2018           8\n",
       "2 2018-10-23        1859       25       1       2018          10\n",
       "3 2019-08-17        7292       25       1       2019           8\n",
       "4 2019-01-06        4344       25       3       2019           1"
      ]
     },
     "execution_count": 17,
     "metadata": {},
     "output_type": "execute_result"
    }
   ],
   "source": [
    "date['date_month'] = date['date'].dt.month\n",
    "date.head()"
   ]
  },
  {
   "cell_type": "code",
   "execution_count": 20,
   "id": "516cc1aa-bb41-4b89-a669-5bb2899d88dd",
   "metadata": {},
   "outputs": [
    {
     "data": {
      "text/html": [
       "<div>\n",
       "<style scoped>\n",
       "    .dataframe tbody tr th:only-of-type {\n",
       "        vertical-align: middle;\n",
       "    }\n",
       "\n",
       "    .dataframe tbody tr th {\n",
       "        vertical-align: top;\n",
       "    }\n",
       "\n",
       "    .dataframe thead th {\n",
       "        text-align: right;\n",
       "    }\n",
       "</style>\n",
       "<table border=\"1\" class=\"dataframe\">\n",
       "  <thead>\n",
       "    <tr style=\"text-align: right;\">\n",
       "      <th></th>\n",
       "      <th>date</th>\n",
       "      <th>product_id</th>\n",
       "      <th>city_id</th>\n",
       "      <th>orders</th>\n",
       "      <th>date_year</th>\n",
       "      <th>date_month</th>\n",
       "      <th>date_month_name</th>\n",
       "    </tr>\n",
       "  </thead>\n",
       "  <tbody>\n",
       "    <tr>\n",
       "      <th>0</th>\n",
       "      <td>2019-12-10</td>\n",
       "      <td>5628</td>\n",
       "      <td>25</td>\n",
       "      <td>3</td>\n",
       "      <td>2019</td>\n",
       "      <td>12</td>\n",
       "      <td>December</td>\n",
       "    </tr>\n",
       "    <tr>\n",
       "      <th>1</th>\n",
       "      <td>2018-08-15</td>\n",
       "      <td>3646</td>\n",
       "      <td>14</td>\n",
       "      <td>157</td>\n",
       "      <td>2018</td>\n",
       "      <td>8</td>\n",
       "      <td>August</td>\n",
       "    </tr>\n",
       "    <tr>\n",
       "      <th>2</th>\n",
       "      <td>2018-10-23</td>\n",
       "      <td>1859</td>\n",
       "      <td>25</td>\n",
       "      <td>1</td>\n",
       "      <td>2018</td>\n",
       "      <td>10</td>\n",
       "      <td>October</td>\n",
       "    </tr>\n",
       "    <tr>\n",
       "      <th>3</th>\n",
       "      <td>2019-08-17</td>\n",
       "      <td>7292</td>\n",
       "      <td>25</td>\n",
       "      <td>1</td>\n",
       "      <td>2019</td>\n",
       "      <td>8</td>\n",
       "      <td>August</td>\n",
       "    </tr>\n",
       "    <tr>\n",
       "      <th>4</th>\n",
       "      <td>2019-01-06</td>\n",
       "      <td>4344</td>\n",
       "      <td>25</td>\n",
       "      <td>3</td>\n",
       "      <td>2019</td>\n",
       "      <td>1</td>\n",
       "      <td>January</td>\n",
       "    </tr>\n",
       "  </tbody>\n",
       "</table>\n",
       "</div>"
      ],
      "text/plain": [
       "        date  product_id  city_id  orders  date_year  date_month  \\\n",
       "0 2019-12-10        5628       25       3       2019          12   \n",
       "1 2018-08-15        3646       14     157       2018           8   \n",
       "2 2018-10-23        1859       25       1       2018          10   \n",
       "3 2019-08-17        7292       25       1       2019           8   \n",
       "4 2019-01-06        4344       25       3       2019           1   \n",
       "\n",
       "  date_month_name  \n",
       "0        December  \n",
       "1          August  \n",
       "2         October  \n",
       "3          August  \n",
       "4         January  "
      ]
     },
     "execution_count": 20,
     "metadata": {},
     "output_type": "execute_result"
    }
   ],
   "source": [
    "date['date_month_name'] = date['date'].dt.month_name() # notice the parenthesis\n",
    "date.head()"
   ]
  },
  {
   "cell_type": "markdown",
   "id": "875e33ad-71bd-492c-8b5e-3a518f50f272",
   "metadata": {},
   "source": [
    "### 3. Extract Days"
   ]
  },
  {
   "cell_type": "code",
   "execution_count": 22,
   "id": "012d1442-67a5-40f4-bb93-ac2661a4840d",
   "metadata": {},
   "outputs": [
    {
     "data": {
      "text/html": [
       "<div>\n",
       "<style scoped>\n",
       "    .dataframe tbody tr th:only-of-type {\n",
       "        vertical-align: middle;\n",
       "    }\n",
       "\n",
       "    .dataframe tbody tr th {\n",
       "        vertical-align: top;\n",
       "    }\n",
       "\n",
       "    .dataframe thead th {\n",
       "        text-align: right;\n",
       "    }\n",
       "</style>\n",
       "<table border=\"1\" class=\"dataframe\">\n",
       "  <thead>\n",
       "    <tr style=\"text-align: right;\">\n",
       "      <th></th>\n",
       "      <th>date</th>\n",
       "      <th>product_id</th>\n",
       "      <th>city_id</th>\n",
       "      <th>orders</th>\n",
       "      <th>date_year</th>\n",
       "      <th>date_month</th>\n",
       "      <th>date_month_name</th>\n",
       "      <th>date_day</th>\n",
       "    </tr>\n",
       "  </thead>\n",
       "  <tbody>\n",
       "    <tr>\n",
       "      <th>0</th>\n",
       "      <td>2019-12-10</td>\n",
       "      <td>5628</td>\n",
       "      <td>25</td>\n",
       "      <td>3</td>\n",
       "      <td>2019</td>\n",
       "      <td>12</td>\n",
       "      <td>December</td>\n",
       "      <td>10</td>\n",
       "    </tr>\n",
       "    <tr>\n",
       "      <th>1</th>\n",
       "      <td>2018-08-15</td>\n",
       "      <td>3646</td>\n",
       "      <td>14</td>\n",
       "      <td>157</td>\n",
       "      <td>2018</td>\n",
       "      <td>8</td>\n",
       "      <td>August</td>\n",
       "      <td>15</td>\n",
       "    </tr>\n",
       "    <tr>\n",
       "      <th>2</th>\n",
       "      <td>2018-10-23</td>\n",
       "      <td>1859</td>\n",
       "      <td>25</td>\n",
       "      <td>1</td>\n",
       "      <td>2018</td>\n",
       "      <td>10</td>\n",
       "      <td>October</td>\n",
       "      <td>23</td>\n",
       "    </tr>\n",
       "    <tr>\n",
       "      <th>3</th>\n",
       "      <td>2019-08-17</td>\n",
       "      <td>7292</td>\n",
       "      <td>25</td>\n",
       "      <td>1</td>\n",
       "      <td>2019</td>\n",
       "      <td>8</td>\n",
       "      <td>August</td>\n",
       "      <td>17</td>\n",
       "    </tr>\n",
       "    <tr>\n",
       "      <th>4</th>\n",
       "      <td>2019-01-06</td>\n",
       "      <td>4344</td>\n",
       "      <td>25</td>\n",
       "      <td>3</td>\n",
       "      <td>2019</td>\n",
       "      <td>1</td>\n",
       "      <td>January</td>\n",
       "      <td>6</td>\n",
       "    </tr>\n",
       "  </tbody>\n",
       "</table>\n",
       "</div>"
      ],
      "text/plain": [
       "        date  product_id  city_id  orders  date_year  date_month  \\\n",
       "0 2019-12-10        5628       25       3       2019          12   \n",
       "1 2018-08-15        3646       14     157       2018           8   \n",
       "2 2018-10-23        1859       25       1       2018          10   \n",
       "3 2019-08-17        7292       25       1       2019           8   \n",
       "4 2019-01-06        4344       25       3       2019           1   \n",
       "\n",
       "  date_month_name  date_day  \n",
       "0        December        10  \n",
       "1          August        15  \n",
       "2         October        23  \n",
       "3          August        17  \n",
       "4         January         6  "
      ]
     },
     "execution_count": 22,
     "metadata": {},
     "output_type": "execute_result"
    }
   ],
   "source": [
    "date['date_day'] = date['date'].dt.day\n",
    "date.head()"
   ]
  },
  {
   "cell_type": "markdown",
   "id": "e61220ae-87e7-4fc5-a852-6a100ab79442",
   "metadata": {},
   "source": [
    "### 4. Day of the week"
   ]
  },
  {
   "cell_type": "code",
   "execution_count": 23,
   "id": "368b8e30-c95b-4d53-9567-1c48e35b7f26",
   "metadata": {},
   "outputs": [
    {
     "data": {
      "text/html": [
       "<div>\n",
       "<style scoped>\n",
       "    .dataframe tbody tr th:only-of-type {\n",
       "        vertical-align: middle;\n",
       "    }\n",
       "\n",
       "    .dataframe tbody tr th {\n",
       "        vertical-align: top;\n",
       "    }\n",
       "\n",
       "    .dataframe thead th {\n",
       "        text-align: right;\n",
       "    }\n",
       "</style>\n",
       "<table border=\"1\" class=\"dataframe\">\n",
       "  <thead>\n",
       "    <tr style=\"text-align: right;\">\n",
       "      <th></th>\n",
       "      <th>date</th>\n",
       "      <th>product_id</th>\n",
       "      <th>city_id</th>\n",
       "      <th>orders</th>\n",
       "      <th>date_year</th>\n",
       "      <th>date_month</th>\n",
       "      <th>date_month_name</th>\n",
       "      <th>date_day</th>\n",
       "      <th>date_dow</th>\n",
       "    </tr>\n",
       "  </thead>\n",
       "  <tbody>\n",
       "    <tr>\n",
       "      <th>0</th>\n",
       "      <td>2019-12-10</td>\n",
       "      <td>5628</td>\n",
       "      <td>25</td>\n",
       "      <td>3</td>\n",
       "      <td>2019</td>\n",
       "      <td>12</td>\n",
       "      <td>December</td>\n",
       "      <td>10</td>\n",
       "      <td>1</td>\n",
       "    </tr>\n",
       "    <tr>\n",
       "      <th>1</th>\n",
       "      <td>2018-08-15</td>\n",
       "      <td>3646</td>\n",
       "      <td>14</td>\n",
       "      <td>157</td>\n",
       "      <td>2018</td>\n",
       "      <td>8</td>\n",
       "      <td>August</td>\n",
       "      <td>15</td>\n",
       "      <td>2</td>\n",
       "    </tr>\n",
       "    <tr>\n",
       "      <th>2</th>\n",
       "      <td>2018-10-23</td>\n",
       "      <td>1859</td>\n",
       "      <td>25</td>\n",
       "      <td>1</td>\n",
       "      <td>2018</td>\n",
       "      <td>10</td>\n",
       "      <td>October</td>\n",
       "      <td>23</td>\n",
       "      <td>1</td>\n",
       "    </tr>\n",
       "    <tr>\n",
       "      <th>3</th>\n",
       "      <td>2019-08-17</td>\n",
       "      <td>7292</td>\n",
       "      <td>25</td>\n",
       "      <td>1</td>\n",
       "      <td>2019</td>\n",
       "      <td>8</td>\n",
       "      <td>August</td>\n",
       "      <td>17</td>\n",
       "      <td>5</td>\n",
       "    </tr>\n",
       "    <tr>\n",
       "      <th>4</th>\n",
       "      <td>2019-01-06</td>\n",
       "      <td>4344</td>\n",
       "      <td>25</td>\n",
       "      <td>3</td>\n",
       "      <td>2019</td>\n",
       "      <td>1</td>\n",
       "      <td>January</td>\n",
       "      <td>6</td>\n",
       "      <td>6</td>\n",
       "    </tr>\n",
       "  </tbody>\n",
       "</table>\n",
       "</div>"
      ],
      "text/plain": [
       "        date  product_id  city_id  orders  date_year  date_month  \\\n",
       "0 2019-12-10        5628       25       3       2019          12   \n",
       "1 2018-08-15        3646       14     157       2018           8   \n",
       "2 2018-10-23        1859       25       1       2018          10   \n",
       "3 2019-08-17        7292       25       1       2019           8   \n",
       "4 2019-01-06        4344       25       3       2019           1   \n",
       "\n",
       "  date_month_name  date_day  date_dow  \n",
       "0        December        10         1  \n",
       "1          August        15         2  \n",
       "2         October        23         1  \n",
       "3          August        17         5  \n",
       "4         January         6         6  "
      ]
     },
     "execution_count": 23,
     "metadata": {},
     "output_type": "execute_result"
    }
   ],
   "source": [
    "date['date_dow'] = date['date'].dt.dayofweek\n",
    "date.head()"
   ]
  },
  {
   "cell_type": "code",
   "execution_count": 24,
   "id": "91c94f70-f5cd-4fec-9782-4dfd18a94427",
   "metadata": {},
   "outputs": [
    {
     "data": {
      "text/html": [
       "<div>\n",
       "<style scoped>\n",
       "    .dataframe tbody tr th:only-of-type {\n",
       "        vertical-align: middle;\n",
       "    }\n",
       "\n",
       "    .dataframe tbody tr th {\n",
       "        vertical-align: top;\n",
       "    }\n",
       "\n",
       "    .dataframe thead th {\n",
       "        text-align: right;\n",
       "    }\n",
       "</style>\n",
       "<table border=\"1\" class=\"dataframe\">\n",
       "  <thead>\n",
       "    <tr style=\"text-align: right;\">\n",
       "      <th></th>\n",
       "      <th>date</th>\n",
       "      <th>date_year</th>\n",
       "      <th>date_month</th>\n",
       "      <th>date_month_name</th>\n",
       "      <th>date_day</th>\n",
       "      <th>date_dow</th>\n",
       "      <th>date_dow_name</th>\n",
       "    </tr>\n",
       "  </thead>\n",
       "  <tbody>\n",
       "    <tr>\n",
       "      <th>0</th>\n",
       "      <td>2019-12-10</td>\n",
       "      <td>2019</td>\n",
       "      <td>12</td>\n",
       "      <td>December</td>\n",
       "      <td>10</td>\n",
       "      <td>1</td>\n",
       "      <td>Tuesday</td>\n",
       "    </tr>\n",
       "    <tr>\n",
       "      <th>1</th>\n",
       "      <td>2018-08-15</td>\n",
       "      <td>2018</td>\n",
       "      <td>8</td>\n",
       "      <td>August</td>\n",
       "      <td>15</td>\n",
       "      <td>2</td>\n",
       "      <td>Wednesday</td>\n",
       "    </tr>\n",
       "    <tr>\n",
       "      <th>2</th>\n",
       "      <td>2018-10-23</td>\n",
       "      <td>2018</td>\n",
       "      <td>10</td>\n",
       "      <td>October</td>\n",
       "      <td>23</td>\n",
       "      <td>1</td>\n",
       "      <td>Tuesday</td>\n",
       "    </tr>\n",
       "    <tr>\n",
       "      <th>3</th>\n",
       "      <td>2019-08-17</td>\n",
       "      <td>2019</td>\n",
       "      <td>8</td>\n",
       "      <td>August</td>\n",
       "      <td>17</td>\n",
       "      <td>5</td>\n",
       "      <td>Saturday</td>\n",
       "    </tr>\n",
       "    <tr>\n",
       "      <th>4</th>\n",
       "      <td>2019-01-06</td>\n",
       "      <td>2019</td>\n",
       "      <td>1</td>\n",
       "      <td>January</td>\n",
       "      <td>6</td>\n",
       "      <td>6</td>\n",
       "      <td>Sunday</td>\n",
       "    </tr>\n",
       "  </tbody>\n",
       "</table>\n",
       "</div>"
      ],
      "text/plain": [
       "        date  date_year  date_month date_month_name  date_day  date_dow  \\\n",
       "0 2019-12-10       2019          12        December        10         1   \n",
       "1 2018-08-15       2018           8          August        15         2   \n",
       "2 2018-10-23       2018          10         October        23         1   \n",
       "3 2019-08-17       2019           8          August        17         5   \n",
       "4 2019-01-06       2019           1         January         6         6   \n",
       "\n",
       "  date_dow_name  \n",
       "0       Tuesday  \n",
       "1     Wednesday  \n",
       "2       Tuesday  \n",
       "3      Saturday  \n",
       "4        Sunday  "
      ]
     },
     "execution_count": 24,
     "metadata": {},
     "output_type": "execute_result"
    }
   ],
   "source": [
    "date['date_dow_name'] = date['date'].dt.day_name()\n",
    "date.drop(columns=['product_id', 'city_id', 'orders']).head()"
   ]
  },
  {
   "cell_type": "markdown",
   "id": "e89836bc-cd4a-45f7-81dc-bae3899656c7",
   "metadata": {},
   "source": [
    "### 5. is weekend"
   ]
  },
  {
   "cell_type": "code",
   "execution_count": 26,
   "id": "1c8c9ad2-9d3d-4202-8e22-e22d9613ac41",
   "metadata": {},
   "outputs": [
    {
     "data": {
      "text/html": [
       "<div>\n",
       "<style scoped>\n",
       "    .dataframe tbody tr th:only-of-type {\n",
       "        vertical-align: middle;\n",
       "    }\n",
       "\n",
       "    .dataframe tbody tr th {\n",
       "        vertical-align: top;\n",
       "    }\n",
       "\n",
       "    .dataframe thead th {\n",
       "        text-align: right;\n",
       "    }\n",
       "</style>\n",
       "<table border=\"1\" class=\"dataframe\">\n",
       "  <thead>\n",
       "    <tr style=\"text-align: right;\">\n",
       "      <th></th>\n",
       "      <th>date</th>\n",
       "      <th>date_year</th>\n",
       "      <th>date_month</th>\n",
       "      <th>date_month_name</th>\n",
       "      <th>date_day</th>\n",
       "      <th>date_dow</th>\n",
       "      <th>date_dow_name</th>\n",
       "      <th>date_is_weekend</th>\n",
       "    </tr>\n",
       "  </thead>\n",
       "  <tbody>\n",
       "    <tr>\n",
       "      <th>0</th>\n",
       "      <td>2019-12-10</td>\n",
       "      <td>2019</td>\n",
       "      <td>12</td>\n",
       "      <td>December</td>\n",
       "      <td>10</td>\n",
       "      <td>1</td>\n",
       "      <td>Tuesday</td>\n",
       "      <td>0</td>\n",
       "    </tr>\n",
       "    <tr>\n",
       "      <th>1</th>\n",
       "      <td>2018-08-15</td>\n",
       "      <td>2018</td>\n",
       "      <td>8</td>\n",
       "      <td>August</td>\n",
       "      <td>15</td>\n",
       "      <td>2</td>\n",
       "      <td>Wednesday</td>\n",
       "      <td>0</td>\n",
       "    </tr>\n",
       "    <tr>\n",
       "      <th>2</th>\n",
       "      <td>2018-10-23</td>\n",
       "      <td>2018</td>\n",
       "      <td>10</td>\n",
       "      <td>October</td>\n",
       "      <td>23</td>\n",
       "      <td>1</td>\n",
       "      <td>Tuesday</td>\n",
       "      <td>0</td>\n",
       "    </tr>\n",
       "    <tr>\n",
       "      <th>3</th>\n",
       "      <td>2019-08-17</td>\n",
       "      <td>2019</td>\n",
       "      <td>8</td>\n",
       "      <td>August</td>\n",
       "      <td>17</td>\n",
       "      <td>5</td>\n",
       "      <td>Saturday</td>\n",
       "      <td>1</td>\n",
       "    </tr>\n",
       "    <tr>\n",
       "      <th>4</th>\n",
       "      <td>2019-01-06</td>\n",
       "      <td>2019</td>\n",
       "      <td>1</td>\n",
       "      <td>January</td>\n",
       "      <td>6</td>\n",
       "      <td>6</td>\n",
       "      <td>Sunday</td>\n",
       "      <td>1</td>\n",
       "    </tr>\n",
       "  </tbody>\n",
       "</table>\n",
       "</div>"
      ],
      "text/plain": [
       "        date  date_year  date_month date_month_name  date_day  date_dow  \\\n",
       "0 2019-12-10       2019          12        December        10         1   \n",
       "1 2018-08-15       2018           8          August        15         2   \n",
       "2 2018-10-23       2018          10         October        23         1   \n",
       "3 2019-08-17       2019           8          August        17         5   \n",
       "4 2019-01-06       2019           1         January         6         6   \n",
       "\n",
       "  date_dow_name  date_is_weekend  \n",
       "0       Tuesday                0  \n",
       "1     Wednesday                0  \n",
       "2       Tuesday                0  \n",
       "3      Saturday                1  \n",
       "4        Sunday                1  "
      ]
     },
     "execution_count": 26,
     "metadata": {},
     "output_type": "execute_result"
    }
   ],
   "source": [
    "date['date_is_weekend'] = np.where(date['date_dow_name'].isin(['Sunday', 'Saturday']), 1, 0)\n",
    "date.drop(columns = ['product_id', 'city_id', 'orders']).head()"
   ]
  },
  {
   "cell_type": "markdown",
   "id": "f080fb43-7c52-4913-b4da-b985827451a5",
   "metadata": {},
   "source": [
    "### 6. Extract Week of the year"
   ]
  },
  {
   "cell_type": "code",
   "execution_count": 30,
   "id": "d21916e1-7f31-4da5-8f35-1d61fbb85e9a",
   "metadata": {},
   "outputs": [
    {
     "data": {
      "text/html": [
       "<div>\n",
       "<style scoped>\n",
       "    .dataframe tbody tr th:only-of-type {\n",
       "        vertical-align: middle;\n",
       "    }\n",
       "\n",
       "    .dataframe tbody tr th {\n",
       "        vertical-align: top;\n",
       "    }\n",
       "\n",
       "    .dataframe thead th {\n",
       "        text-align: right;\n",
       "    }\n",
       "</style>\n",
       "<table border=\"1\" class=\"dataframe\">\n",
       "  <thead>\n",
       "    <tr style=\"text-align: right;\">\n",
       "      <th></th>\n",
       "      <th>date</th>\n",
       "      <th>date_year</th>\n",
       "      <th>date_month</th>\n",
       "      <th>date_month_name</th>\n",
       "      <th>date_day</th>\n",
       "      <th>date_dow</th>\n",
       "      <th>date_dow_name</th>\n",
       "      <th>date_is_weekend</th>\n",
       "      <th>date_week</th>\n",
       "    </tr>\n",
       "  </thead>\n",
       "  <tbody>\n",
       "    <tr>\n",
       "      <th>0</th>\n",
       "      <td>2019-12-10</td>\n",
       "      <td>2019</td>\n",
       "      <td>12</td>\n",
       "      <td>December</td>\n",
       "      <td>10</td>\n",
       "      <td>1</td>\n",
       "      <td>Tuesday</td>\n",
       "      <td>0</td>\n",
       "      <td>50</td>\n",
       "    </tr>\n",
       "    <tr>\n",
       "      <th>1</th>\n",
       "      <td>2018-08-15</td>\n",
       "      <td>2018</td>\n",
       "      <td>8</td>\n",
       "      <td>August</td>\n",
       "      <td>15</td>\n",
       "      <td>2</td>\n",
       "      <td>Wednesday</td>\n",
       "      <td>0</td>\n",
       "      <td>33</td>\n",
       "    </tr>\n",
       "    <tr>\n",
       "      <th>2</th>\n",
       "      <td>2018-10-23</td>\n",
       "      <td>2018</td>\n",
       "      <td>10</td>\n",
       "      <td>October</td>\n",
       "      <td>23</td>\n",
       "      <td>1</td>\n",
       "      <td>Tuesday</td>\n",
       "      <td>0</td>\n",
       "      <td>43</td>\n",
       "    </tr>\n",
       "    <tr>\n",
       "      <th>3</th>\n",
       "      <td>2019-08-17</td>\n",
       "      <td>2019</td>\n",
       "      <td>8</td>\n",
       "      <td>August</td>\n",
       "      <td>17</td>\n",
       "      <td>5</td>\n",
       "      <td>Saturday</td>\n",
       "      <td>1</td>\n",
       "      <td>33</td>\n",
       "    </tr>\n",
       "    <tr>\n",
       "      <th>4</th>\n",
       "      <td>2019-01-06</td>\n",
       "      <td>2019</td>\n",
       "      <td>1</td>\n",
       "      <td>January</td>\n",
       "      <td>6</td>\n",
       "      <td>6</td>\n",
       "      <td>Sunday</td>\n",
       "      <td>1</td>\n",
       "      <td>1</td>\n",
       "    </tr>\n",
       "  </tbody>\n",
       "</table>\n",
       "</div>"
      ],
      "text/plain": [
       "        date  date_year  date_month date_month_name  date_day  date_dow  \\\n",
       "0 2019-12-10       2019          12        December        10         1   \n",
       "1 2018-08-15       2018           8          August        15         2   \n",
       "2 2018-10-23       2018          10         October        23         1   \n",
       "3 2019-08-17       2019           8          August        17         5   \n",
       "4 2019-01-06       2019           1         January         6         6   \n",
       "\n",
       "  date_dow_name  date_is_weekend  date_week  \n",
       "0       Tuesday                0         50  \n",
       "1     Wednesday                0         33  \n",
       "2       Tuesday                0         43  \n",
       "3      Saturday                1         33  \n",
       "4        Sunday                1          1  "
      ]
     },
     "execution_count": 30,
     "metadata": {},
     "output_type": "execute_result"
    }
   ],
   "source": [
    "date['date_week'] = date['date'].dt.isocalendar().week \n",
    "\n",
    "date.drop(columns=['product_id', 'city_id', 'orders']).head()"
   ]
  },
  {
   "cell_type": "markdown",
   "id": "98abe745-8885-42d2-b68f-80100be0246d",
   "metadata": {},
   "source": [
    "### 7. Extract Quater"
   ]
  },
  {
   "cell_type": "code",
   "execution_count": 32,
   "id": "5554e16a-390b-40f9-aafe-e289869a2fe1",
   "metadata": {},
   "outputs": [
    {
     "data": {
      "text/html": [
       "<div>\n",
       "<style scoped>\n",
       "    .dataframe tbody tr th:only-of-type {\n",
       "        vertical-align: middle;\n",
       "    }\n",
       "\n",
       "    .dataframe tbody tr th {\n",
       "        vertical-align: top;\n",
       "    }\n",
       "\n",
       "    .dataframe thead th {\n",
       "        text-align: right;\n",
       "    }\n",
       "</style>\n",
       "<table border=\"1\" class=\"dataframe\">\n",
       "  <thead>\n",
       "    <tr style=\"text-align: right;\">\n",
       "      <th></th>\n",
       "      <th>date</th>\n",
       "      <th>date_year</th>\n",
       "      <th>date_month</th>\n",
       "      <th>date_month_name</th>\n",
       "      <th>date_day</th>\n",
       "      <th>date_dow</th>\n",
       "      <th>date_dow_name</th>\n",
       "      <th>date_is_weekend</th>\n",
       "      <th>date_week</th>\n",
       "      <th>quater</th>\n",
       "    </tr>\n",
       "  </thead>\n",
       "  <tbody>\n",
       "    <tr>\n",
       "      <th>0</th>\n",
       "      <td>2019-12-10</td>\n",
       "      <td>2019</td>\n",
       "      <td>12</td>\n",
       "      <td>December</td>\n",
       "      <td>10</td>\n",
       "      <td>1</td>\n",
       "      <td>Tuesday</td>\n",
       "      <td>0</td>\n",
       "      <td>50</td>\n",
       "      <td>4</td>\n",
       "    </tr>\n",
       "    <tr>\n",
       "      <th>1</th>\n",
       "      <td>2018-08-15</td>\n",
       "      <td>2018</td>\n",
       "      <td>8</td>\n",
       "      <td>August</td>\n",
       "      <td>15</td>\n",
       "      <td>2</td>\n",
       "      <td>Wednesday</td>\n",
       "      <td>0</td>\n",
       "      <td>33</td>\n",
       "      <td>3</td>\n",
       "    </tr>\n",
       "    <tr>\n",
       "      <th>2</th>\n",
       "      <td>2018-10-23</td>\n",
       "      <td>2018</td>\n",
       "      <td>10</td>\n",
       "      <td>October</td>\n",
       "      <td>23</td>\n",
       "      <td>1</td>\n",
       "      <td>Tuesday</td>\n",
       "      <td>0</td>\n",
       "      <td>43</td>\n",
       "      <td>4</td>\n",
       "    </tr>\n",
       "    <tr>\n",
       "      <th>3</th>\n",
       "      <td>2019-08-17</td>\n",
       "      <td>2019</td>\n",
       "      <td>8</td>\n",
       "      <td>August</td>\n",
       "      <td>17</td>\n",
       "      <td>5</td>\n",
       "      <td>Saturday</td>\n",
       "      <td>1</td>\n",
       "      <td>33</td>\n",
       "      <td>3</td>\n",
       "    </tr>\n",
       "    <tr>\n",
       "      <th>4</th>\n",
       "      <td>2019-01-06</td>\n",
       "      <td>2019</td>\n",
       "      <td>1</td>\n",
       "      <td>January</td>\n",
       "      <td>6</td>\n",
       "      <td>6</td>\n",
       "      <td>Sunday</td>\n",
       "      <td>1</td>\n",
       "      <td>1</td>\n",
       "      <td>1</td>\n",
       "    </tr>\n",
       "  </tbody>\n",
       "</table>\n",
       "</div>"
      ],
      "text/plain": [
       "        date  date_year  date_month date_month_name  date_day  date_dow  \\\n",
       "0 2019-12-10       2019          12        December        10         1   \n",
       "1 2018-08-15       2018           8          August        15         2   \n",
       "2 2018-10-23       2018          10         October        23         1   \n",
       "3 2019-08-17       2019           8          August        17         5   \n",
       "4 2019-01-06       2019           1         January         6         6   \n",
       "\n",
       "  date_dow_name  date_is_weekend  date_week  quater  \n",
       "0       Tuesday                0         50       4  \n",
       "1     Wednesday                0         33       3  \n",
       "2       Tuesday                0         43       4  \n",
       "3      Saturday                1         33       3  \n",
       "4        Sunday                1          1       1  "
      ]
     },
     "execution_count": 32,
     "metadata": {},
     "output_type": "execute_result"
    }
   ],
   "source": [
    "date['quater'] = date['date'].dt.quarter\n",
    "date.drop(columns=['product_id', 'city_id', 'orders']).head()"
   ]
  },
  {
   "cell_type": "markdown",
   "id": "d4d3387f-b668-460e-b6d9-a5d05baf24a8",
   "metadata": {},
   "source": [
    "### 8. Extract Semester"
   ]
  },
  {
   "cell_type": "code",
   "execution_count": 34,
   "id": "a6f763a7-8622-435a-b90d-b16ac8198cfe",
   "metadata": {},
   "outputs": [],
   "source": [
    "date['semester'] = np.where(date['quater'].isin([1, 2]), 1, 2)"
   ]
  },
  {
   "cell_type": "code",
   "execution_count": 35,
   "id": "832f00d4-bda6-4532-99f5-116d00165fe1",
   "metadata": {},
   "outputs": [
    {
     "data": {
      "text/html": [
       "<div>\n",
       "<style scoped>\n",
       "    .dataframe tbody tr th:only-of-type {\n",
       "        vertical-align: middle;\n",
       "    }\n",
       "\n",
       "    .dataframe tbody tr th {\n",
       "        vertical-align: top;\n",
       "    }\n",
       "\n",
       "    .dataframe thead th {\n",
       "        text-align: right;\n",
       "    }\n",
       "</style>\n",
       "<table border=\"1\" class=\"dataframe\">\n",
       "  <thead>\n",
       "    <tr style=\"text-align: right;\">\n",
       "      <th></th>\n",
       "      <th>date</th>\n",
       "      <th>date_year</th>\n",
       "      <th>date_month</th>\n",
       "      <th>date_month_name</th>\n",
       "      <th>date_day</th>\n",
       "      <th>date_dow</th>\n",
       "      <th>date_dow_name</th>\n",
       "      <th>date_is_weekend</th>\n",
       "      <th>date_week</th>\n",
       "      <th>quater</th>\n",
       "      <th>semester</th>\n",
       "    </tr>\n",
       "  </thead>\n",
       "  <tbody>\n",
       "    <tr>\n",
       "      <th>0</th>\n",
       "      <td>2019-12-10</td>\n",
       "      <td>2019</td>\n",
       "      <td>12</td>\n",
       "      <td>December</td>\n",
       "      <td>10</td>\n",
       "      <td>1</td>\n",
       "      <td>Tuesday</td>\n",
       "      <td>0</td>\n",
       "      <td>50</td>\n",
       "      <td>4</td>\n",
       "      <td>2</td>\n",
       "    </tr>\n",
       "    <tr>\n",
       "      <th>1</th>\n",
       "      <td>2018-08-15</td>\n",
       "      <td>2018</td>\n",
       "      <td>8</td>\n",
       "      <td>August</td>\n",
       "      <td>15</td>\n",
       "      <td>2</td>\n",
       "      <td>Wednesday</td>\n",
       "      <td>0</td>\n",
       "      <td>33</td>\n",
       "      <td>3</td>\n",
       "      <td>2</td>\n",
       "    </tr>\n",
       "    <tr>\n",
       "      <th>2</th>\n",
       "      <td>2018-10-23</td>\n",
       "      <td>2018</td>\n",
       "      <td>10</td>\n",
       "      <td>October</td>\n",
       "      <td>23</td>\n",
       "      <td>1</td>\n",
       "      <td>Tuesday</td>\n",
       "      <td>0</td>\n",
       "      <td>43</td>\n",
       "      <td>4</td>\n",
       "      <td>2</td>\n",
       "    </tr>\n",
       "    <tr>\n",
       "      <th>3</th>\n",
       "      <td>2019-08-17</td>\n",
       "      <td>2019</td>\n",
       "      <td>8</td>\n",
       "      <td>August</td>\n",
       "      <td>17</td>\n",
       "      <td>5</td>\n",
       "      <td>Saturday</td>\n",
       "      <td>1</td>\n",
       "      <td>33</td>\n",
       "      <td>3</td>\n",
       "      <td>2</td>\n",
       "    </tr>\n",
       "    <tr>\n",
       "      <th>4</th>\n",
       "      <td>2019-01-06</td>\n",
       "      <td>2019</td>\n",
       "      <td>1</td>\n",
       "      <td>January</td>\n",
       "      <td>6</td>\n",
       "      <td>6</td>\n",
       "      <td>Sunday</td>\n",
       "      <td>1</td>\n",
       "      <td>1</td>\n",
       "      <td>1</td>\n",
       "      <td>1</td>\n",
       "    </tr>\n",
       "  </tbody>\n",
       "</table>\n",
       "</div>"
      ],
      "text/plain": [
       "        date  date_year  date_month date_month_name  date_day  date_dow  \\\n",
       "0 2019-12-10       2019          12        December        10         1   \n",
       "1 2018-08-15       2018           8          August        15         2   \n",
       "2 2018-10-23       2018          10         October        23         1   \n",
       "3 2019-08-17       2019           8          August        17         5   \n",
       "4 2019-01-06       2019           1         January         6         6   \n",
       "\n",
       "  date_dow_name  date_is_weekend  date_week  quater  semester  \n",
       "0       Tuesday                0         50       4         2  \n",
       "1     Wednesday                0         33       3         2  \n",
       "2       Tuesday                0         43       4         2  \n",
       "3      Saturday                1         33       3         2  \n",
       "4        Sunday                1          1       1         1  "
      ]
     },
     "execution_count": 35,
     "metadata": {},
     "output_type": "execute_result"
    }
   ],
   "source": [
    "date.drop(columns=['product_id', 'city_id', 'orders']).head()"
   ]
  },
  {
   "cell_type": "markdown",
   "id": "30928c81-84ce-4eda-b562-cc65df7a9eca",
   "metadata": {},
   "source": [
    "### Extract Time Elasped during dates"
   ]
  },
  {
   "cell_type": "code",
   "execution_count": 37,
   "id": "e014b89e-d13f-47f8-adba-9ca7b6af4051",
   "metadata": {},
   "outputs": [
    {
     "data": {
      "text/plain": [
       "datetime.datetime(2024, 11, 6, 21, 49, 43, 920202)"
      ]
     },
     "execution_count": 37,
     "metadata": {},
     "output_type": "execute_result"
    }
   ],
   "source": [
    "import datetime\n",
    "today = datetime.datetime.today()\n",
    "today"
   ]
  },
  {
   "cell_type": "code",
   "execution_count": 38,
   "id": "55a6f7b5-d8b9-4119-a438-20242f5804f6",
   "metadata": {},
   "outputs": [
    {
     "data": {
      "text/plain": [
       "0     1793 days 21:49:43.920202\n",
       "1     2275 days 21:49:43.920202\n",
       "2     2206 days 21:49:43.920202\n",
       "3     1908 days 21:49:43.920202\n",
       "4     2131 days 21:49:43.920202\n",
       "                 ...           \n",
       "995   2221 days 21:49:43.920202\n",
       "996   2162 days 21:49:43.920202\n",
       "997   2010 days 21:49:43.920202\n",
       "998   2075 days 21:49:43.920202\n",
       "999   1849 days 21:49:43.920202\n",
       "Name: date, Length: 1000, dtype: timedelta64[ns]"
      ]
     },
     "execution_count": 38,
     "metadata": {},
     "output_type": "execute_result"
    }
   ],
   "source": [
    "today - date['date']"
   ]
  },
  {
   "cell_type": "markdown",
   "id": "8e09a5ed-aacb-41e6-8f4d-ea3dafb6a950",
   "metadata": {},
   "source": [
    "### for days"
   ]
  },
  {
   "cell_type": "code",
   "execution_count": 39,
   "id": "732c3c67-4c81-46b2-903e-015cf38f995f",
   "metadata": {},
   "outputs": [
    {
     "data": {
      "text/plain": [
       "0      1793\n",
       "1      2275\n",
       "2      2206\n",
       "3      1908\n",
       "4      2131\n",
       "       ... \n",
       "995    2221\n",
       "996    2162\n",
       "997    2010\n",
       "998    2075\n",
       "999    1849\n",
       "Name: date, Length: 1000, dtype: int64"
      ]
     },
     "execution_count": 39,
     "metadata": {},
     "output_type": "execute_result"
    }
   ],
   "source": [
    "(today - date['date']).dt.days"
   ]
  },
  {
   "cell_type": "markdown",
   "id": "aa87dc6a-67e3-42b2-b86c-3fb7552b9fec",
   "metadata": {},
   "source": [
    "### for months passed"
   ]
  },
  {
   "cell_type": "code",
   "execution_count": 45,
   "id": "d95736c9-832b-49e4-b7fd-4b35736c7e37",
   "metadata": {},
   "outputs": [
    {
     "data": {
      "text/plain": [
       "0      64.0\n",
       "1      81.0\n",
       "2      79.0\n",
       "3      68.0\n",
       "4      76.0\n",
       "       ... \n",
       "995    79.0\n",
       "996    77.0\n",
       "997    72.0\n",
       "998    74.0\n",
       "999    66.0\n",
       "Name: date, Length: 1000, dtype: float64"
      ]
     },
     "execution_count": 45,
     "metadata": {},
     "output_type": "execute_result"
    }
   ],
   "source": [
    "np.round((today - date['date']) / np.timedelta64(1, 'W')/4, 0)"
   ]
  },
  {
   "cell_type": "markdown",
   "id": "c63257f8-e3b3-4588-91fa-267fdb6fd59c",
   "metadata": {},
   "source": [
    "# Working with Time"
   ]
  },
  {
   "cell_type": "code",
   "execution_count": 46,
   "id": "76d7fbe9-10fc-4229-a19b-e10fcb90a60f",
   "metadata": {},
   "outputs": [],
   "source": [
    "time['date'] = pd.to_datetime(time['date'])"
   ]
  },
  {
   "cell_type": "code",
   "execution_count": 47,
   "id": "f7def23a-37d9-4450-b0c4-2ad58bcd00c3",
   "metadata": {},
   "outputs": [
    {
     "name": "stdout",
     "output_type": "stream",
     "text": [
      "<class 'pandas.core.frame.DataFrame'>\n",
      "RangeIndex: 1000 entries, 0 to 999\n",
      "Data columns (total 2 columns):\n",
      " #   Column  Non-Null Count  Dtype         \n",
      "---  ------  --------------  -----         \n",
      " 0   date    1000 non-null   datetime64[ns]\n",
      " 1   msg     1000 non-null   object        \n",
      "dtypes: datetime64[ns](1), object(1)\n",
      "memory usage: 15.8+ KB\n"
     ]
    }
   ],
   "source": [
    "time.info()"
   ]
  },
  {
   "cell_type": "code",
   "execution_count": 49,
   "id": "add9f310-4a6e-4c56-8bd0-e65992759949",
   "metadata": {},
   "outputs": [],
   "source": [
    "time['hour'] = time['date'].dt.hour\n",
    "time['min'] = time['date'].dt.minute\n",
    "time['sec'] = time['date'].dt.second"
   ]
  },
  {
   "cell_type": "code",
   "execution_count": 50,
   "id": "3f49925e-8a0a-434b-a927-3de719ffb586",
   "metadata": {},
   "outputs": [
    {
     "data": {
      "text/html": [
       "<div>\n",
       "<style scoped>\n",
       "    .dataframe tbody tr th:only-of-type {\n",
       "        vertical-align: middle;\n",
       "    }\n",
       "\n",
       "    .dataframe tbody tr th {\n",
       "        vertical-align: top;\n",
       "    }\n",
       "\n",
       "    .dataframe thead th {\n",
       "        text-align: right;\n",
       "    }\n",
       "</style>\n",
       "<table border=\"1\" class=\"dataframe\">\n",
       "  <thead>\n",
       "    <tr style=\"text-align: right;\">\n",
       "      <th></th>\n",
       "      <th>date</th>\n",
       "      <th>msg</th>\n",
       "      <th>hour</th>\n",
       "      <th>min</th>\n",
       "      <th>sec</th>\n",
       "    </tr>\n",
       "  </thead>\n",
       "  <tbody>\n",
       "    <tr>\n",
       "      <th>0</th>\n",
       "      <td>2013-12-15 00:50:00</td>\n",
       "      <td>ищу на сегодня мужика 37</td>\n",
       "      <td>0</td>\n",
       "      <td>50</td>\n",
       "      <td>0</td>\n",
       "    </tr>\n",
       "    <tr>\n",
       "      <th>1</th>\n",
       "      <td>2014-04-29 23:40:00</td>\n",
       "      <td>ПАРЕНЬ БИ ИЩЕТ ДРУГА СЕЙЧАС!! СМС ММС 0955532826</td>\n",
       "      <td>23</td>\n",
       "      <td>40</td>\n",
       "      <td>0</td>\n",
       "    </tr>\n",
       "    <tr>\n",
       "      <th>2</th>\n",
       "      <td>2012-12-30 00:21:00</td>\n",
       "      <td>Днепр.м 43 позн.с д/ж *.о  067.16.34.576</td>\n",
       "      <td>0</td>\n",
       "      <td>21</td>\n",
       "      <td>0</td>\n",
       "    </tr>\n",
       "    <tr>\n",
       "      <th>3</th>\n",
       "      <td>2014-11-28 00:31:00</td>\n",
       "      <td>КИЕВ ИЩУ Д/Ж ДО 45 МНЕ СЕЙЧАС СКУЧНО 093 629 9...</td>\n",
       "      <td>0</td>\n",
       "      <td>31</td>\n",
       "      <td>0</td>\n",
       "    </tr>\n",
       "    <tr>\n",
       "      <th>4</th>\n",
       "      <td>2013-10-26 23:11:00</td>\n",
       "      <td>Зая я тебя никогда не обижу  люблю тебя!)  Даше</td>\n",
       "      <td>23</td>\n",
       "      <td>11</td>\n",
       "      <td>0</td>\n",
       "    </tr>\n",
       "  </tbody>\n",
       "</table>\n",
       "</div>"
      ],
      "text/plain": [
       "                 date                                                msg  \\\n",
       "0 2013-12-15 00:50:00                           ищу на сегодня мужика 37   \n",
       "1 2014-04-29 23:40:00   ПАРЕНЬ БИ ИЩЕТ ДРУГА СЕЙЧАС!! СМС ММС 0955532826   \n",
       "2 2012-12-30 00:21:00           Днепр.м 43 позн.с д/ж *.о  067.16.34.576   \n",
       "3 2014-11-28 00:31:00  КИЕВ ИЩУ Д/Ж ДО 45 МНЕ СЕЙЧАС СКУЧНО 093 629 9...   \n",
       "4 2013-10-26 23:11:00    Зая я тебя никогда не обижу  люблю тебя!)  Даше   \n",
       "\n",
       "   hour  min  sec  \n",
       "0     0   50    0  \n",
       "1    23   40    0  \n",
       "2     0   21    0  \n",
       "3     0   31    0  \n",
       "4    23   11    0  "
      ]
     },
     "execution_count": 50,
     "metadata": {},
     "output_type": "execute_result"
    }
   ],
   "source": [
    "time.head()"
   ]
  },
  {
   "cell_type": "markdown",
   "id": "e2de0f92-267e-445e-9147-f243cb749795",
   "metadata": {},
   "source": [
    "### Time Difference"
   ]
  },
  {
   "cell_type": "code",
   "execution_count": 51,
   "id": "909779d7-7992-46e4-b2aa-c092382024e4",
   "metadata": {},
   "outputs": [
    {
     "data": {
      "text/plain": [
       "0     3979 days 20:59:43.920202\n",
       "1     3843 days 22:09:43.920202\n",
       "2     4329 days 21:28:43.920202\n",
       "3     3631 days 21:18:43.920202\n",
       "4     4028 days 22:38:43.920202\n",
       "                 ...           \n",
       "995   4618 days 20:59:43.920202\n",
       "996   3939 days 22:35:43.920202\n",
       "997   4404 days 22:12:43.920202\n",
       "998   4520 days 22:15:43.920202\n",
       "999   3792 days 22:24:43.920202\n",
       "Name: date, Length: 1000, dtype: timedelta64[ns]"
      ]
     },
     "execution_count": 51,
     "metadata": {},
     "output_type": "execute_result"
    }
   ],
   "source": [
    "today - time['date']"
   ]
  },
  {
   "cell_type": "markdown",
   "id": "e0a9ed08-ce15-422b-ad3d-772f72b1b354",
   "metadata": {},
   "source": [
    "### in seconds"
   ]
  },
  {
   "cell_type": "code",
   "execution_count": 53,
   "id": "b5b0801c-fee1-4c09-8257-d1623309c70f",
   "metadata": {},
   "outputs": [
    {
     "data": {
      "text/plain": [
       "0      3.438612e+08\n",
       "1      3.321150e+08\n",
       "2      3.741029e+08\n",
       "3      3.137951e+08\n",
       "4      3.481007e+08\n",
       "           ...     \n",
       "995    3.990708e+08\n",
       "996    3.404109e+08\n",
       "997    3.805856e+08\n",
       "998    3.906081e+08\n",
       "999    3.277095e+08\n",
       "Name: date, Length: 1000, dtype: float64"
      ]
     },
     "execution_count": 53,
     "metadata": {},
     "output_type": "execute_result"
    }
   ],
   "source": [
    "(today - time['date'])/np.timedelta64(1, 's')"
   ]
  },
  {
   "cell_type": "markdown",
   "id": "7f87cdbe-8aee-42af-92f3-496357263be1",
   "metadata": {},
   "source": [
    "### in hours"
   ]
  },
  {
   "cell_type": "code",
   "execution_count": 54,
   "id": "1e787e1f-e136-4fe0-b327-a72ef287c224",
   "metadata": {},
   "outputs": [
    {
     "data": {
      "text/plain": [
       "0       95516.995533\n",
       "1       92254.162200\n",
       "2      103917.478867\n",
       "3       87165.312200\n",
       "4       96694.645533\n",
       "           ...      \n",
       "995    110852.995533\n",
       "996     94558.595533\n",
       "997    105718.212200\n",
       "998    108502.262200\n",
       "999     91030.412200\n",
       "Name: date, Length: 1000, dtype: float64"
      ]
     },
     "execution_count": 54,
     "metadata": {},
     "output_type": "execute_result"
    }
   ],
   "source": [
    "(today - time['date'])/np.timedelta64(1, 'h')"
   ]
  },
  {
   "cell_type": "code",
   "execution_count": null,
   "id": "2c637d83-5c81-44dc-931c-1d2383f4cb38",
   "metadata": {},
   "outputs": [],
   "source": []
  }
 ],
 "metadata": {
  "kernelspec": {
   "display_name": "Python 3 (ipykernel)",
   "language": "python",
   "name": "python3"
  },
  "language_info": {
   "codemirror_mode": {
    "name": "ipython",
    "version": 3
   },
   "file_extension": ".py",
   "mimetype": "text/x-python",
   "name": "python",
   "nbconvert_exporter": "python",
   "pygments_lexer": "ipython3",
   "version": "3.12.7"
  }
 },
 "nbformat": 4,
 "nbformat_minor": 5
}
