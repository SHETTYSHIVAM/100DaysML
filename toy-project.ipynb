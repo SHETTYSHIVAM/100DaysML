{
 "cells": [
  {
   "cell_type": "code",
   "execution_count": 1,
   "id": "initial_id",
   "metadata": {
    "ExecuteTime": {
     "end_time": "2024-08-07T12:42:37.525344Z",
     "start_time": "2024-08-07T12:42:31.615175Z"
    }
   },
   "outputs": [],
   "source": [
    "import numpy as np\n",
    "import pandas as pd\n",
    "import matplotlib.pyplot as plt"
   ]
  },
  {
   "cell_type": "code",
   "execution_count": 5,
   "id": "4d0881d0c8e64ce2",
   "metadata": {
    "ExecuteTime": {
     "end_time": "2024-08-07T12:43:47.366436Z",
     "start_time": "2024-08-07T12:43:47.302768Z"
    }
   },
   "outputs": [],
   "source": [
    "df = pd.read_csv(r'E:\\learning_bullshit\\100daysML\\sample_data\\placement.csv')"
   ]
  },
  {
   "cell_type": "code",
   "execution_count": 36,
   "id": "9829b262-2031-499e-8d75-722a37a45180",
   "metadata": {
    "ExecuteTime": {
     "end_time": "2024-08-07T12:54:04.818813Z",
     "start_time": "2024-08-07T12:54:04.779226Z"
    }
   },
   "outputs": [
    {
     "data": {
      "text/html": [
       "<div>\n",
       "<style scoped>\n",
       "    .dataframe tbody tr th:only-of-type {\n",
       "        vertical-align: middle;\n",
       "    }\n",
       "\n",
       "    .dataframe tbody tr th {\n",
       "        vertical-align: top;\n",
       "    }\n",
       "\n",
       "    .dataframe thead th {\n",
       "        text-align: right;\n",
       "    }\n",
       "</style>\n",
       "<table border=\"1\" class=\"dataframe\">\n",
       "  <thead>\n",
       "    <tr style=\"text-align: right;\">\n",
       "      <th></th>\n",
       "      <th>cgpa</th>\n",
       "      <th>iq</th>\n",
       "      <th>placement</th>\n",
       "    </tr>\n",
       "  </thead>\n",
       "  <tbody>\n",
       "    <tr>\n",
       "      <th>0</th>\n",
       "      <td>6.8</td>\n",
       "      <td>123.0</td>\n",
       "      <td>1</td>\n",
       "    </tr>\n",
       "    <tr>\n",
       "      <th>1</th>\n",
       "      <td>5.9</td>\n",
       "      <td>106.0</td>\n",
       "      <td>0</td>\n",
       "    </tr>\n",
       "    <tr>\n",
       "      <th>2</th>\n",
       "      <td>5.3</td>\n",
       "      <td>121.0</td>\n",
       "      <td>0</td>\n",
       "    </tr>\n",
       "    <tr>\n",
       "      <th>3</th>\n",
       "      <td>7.4</td>\n",
       "      <td>132.0</td>\n",
       "      <td>1</td>\n",
       "    </tr>\n",
       "    <tr>\n",
       "      <th>4</th>\n",
       "      <td>5.8</td>\n",
       "      <td>142.0</td>\n",
       "      <td>0</td>\n",
       "    </tr>\n",
       "  </tbody>\n",
       "</table>\n",
       "</div>"
      ],
      "text/plain": [
       "   cgpa     iq  placement\n",
       "0   6.8  123.0          1\n",
       "1   5.9  106.0          0\n",
       "2   5.3  121.0          0\n",
       "3   7.4  132.0          1\n",
       "4   5.8  142.0          0"
      ]
     },
     "execution_count": 36,
     "metadata": {},
     "output_type": "execute_result"
    }
   ],
   "source": [
    "df.head()"
   ]
  },
  {
   "cell_type": "code",
   "execution_count": 7,
   "id": "d3c189c4-7a30-4b80-85e8-e1410d42b77c",
   "metadata": {
    "ExecuteTime": {
     "end_time": "2024-08-07T12:43:59.171375Z",
     "start_time": "2024-08-07T12:43:59.153988Z"
    }
   },
   "outputs": [
    {
     "data": {
      "text/plain": [
       "(100, 4)"
      ]
     },
     "execution_count": 7,
     "metadata": {},
     "output_type": "execute_result"
    }
   ],
   "source": [
    "df.shape"
   ]
  },
  {
   "cell_type": "markdown",
   "id": "dc8c32b2-afa2-4c62-9613-5f08a950ce5a",
   "metadata": {},
   "source": [
    "### Steps\n",
    "- Preprocess - EDA - feauture selection\n",
    "- Extract input and output rows\n",
    "- Scale the values\n",
    "- Train test split\n",
    "- Train the model\n",
    "- Evaluate the model, model selection\n",
    "- Deploy the model"
   ]
  },
  {
   "cell_type": "code",
   "execution_count": 8,
   "id": "f0674a81-36b5-454d-b24b-00487216e17c",
   "metadata": {
    "ExecuteTime": {
     "end_time": "2024-08-07T12:44:10.988025Z",
     "start_time": "2024-08-07T12:44:10.922011Z"
    }
   },
   "outputs": [
    {
     "name": "stdout",
     "output_type": "stream",
     "text": [
      "<class 'pandas.core.frame.DataFrame'>\n",
      "RangeIndex: 100 entries, 0 to 99\n",
      "Data columns (total 4 columns):\n",
      " #   Column      Non-Null Count  Dtype  \n",
      "---  ------      --------------  -----  \n",
      " 0   Unnamed: 0  100 non-null    int64  \n",
      " 1   cgpa        100 non-null    float64\n",
      " 2   iq          100 non-null    float64\n",
      " 3   placement   100 non-null    int64  \n",
      "dtypes: float64(2), int64(2)\n",
      "memory usage: 3.3 KB\n"
     ]
    }
   ],
   "source": [
    "df.info()"
   ]
  },
  {
   "cell_type": "code",
   "execution_count": 9,
   "id": "64c850c5-0475-44a0-b6e1-d7ec51c966aa",
   "metadata": {
    "ExecuteTime": {
     "end_time": "2024-08-07T12:44:13.674123Z",
     "start_time": "2024-08-07T12:44:13.641087Z"
    }
   },
   "outputs": [],
   "source": [
    "df = df.iloc[:,1:]"
   ]
  },
  {
   "cell_type": "code",
   "execution_count": 8,
   "id": "2b1aeb7d-d202-44ad-af6f-ed53b643063c",
   "metadata": {},
   "outputs": [
    {
     "data": {
      "text/html": [
       "<div>\n",
       "<style scoped>\n",
       "    .dataframe tbody tr th:only-of-type {\n",
       "        vertical-align: middle;\n",
       "    }\n",
       "\n",
       "    .dataframe tbody tr th {\n",
       "        vertical-align: top;\n",
       "    }\n",
       "\n",
       "    .dataframe thead th {\n",
       "        text-align: right;\n",
       "    }\n",
       "</style>\n",
       "<table border=\"1\" class=\"dataframe\">\n",
       "  <thead>\n",
       "    <tr style=\"text-align: right;\">\n",
       "      <th></th>\n",
       "      <th>cgpa</th>\n",
       "      <th>iq</th>\n",
       "      <th>placement</th>\n",
       "    </tr>\n",
       "  </thead>\n",
       "  <tbody>\n",
       "    <tr>\n",
       "      <th>0</th>\n",
       "      <td>6.8</td>\n",
       "      <td>123.0</td>\n",
       "      <td>1</td>\n",
       "    </tr>\n",
       "    <tr>\n",
       "      <th>1</th>\n",
       "      <td>5.9</td>\n",
       "      <td>106.0</td>\n",
       "      <td>0</td>\n",
       "    </tr>\n",
       "    <tr>\n",
       "      <th>2</th>\n",
       "      <td>5.3</td>\n",
       "      <td>121.0</td>\n",
       "      <td>0</td>\n",
       "    </tr>\n",
       "    <tr>\n",
       "      <th>3</th>\n",
       "      <td>7.4</td>\n",
       "      <td>132.0</td>\n",
       "      <td>1</td>\n",
       "    </tr>\n",
       "    <tr>\n",
       "      <th>4</th>\n",
       "      <td>5.8</td>\n",
       "      <td>142.0</td>\n",
       "      <td>0</td>\n",
       "    </tr>\n",
       "  </tbody>\n",
       "</table>\n",
       "</div>"
      ],
      "text/plain": [
       "   cgpa     iq  placement\n",
       "0   6.8  123.0          1\n",
       "1   5.9  106.0          0\n",
       "2   5.3  121.0          0\n",
       "3   7.4  132.0          1\n",
       "4   5.8  142.0          0"
      ]
     },
     "execution_count": 8,
     "metadata": {},
     "output_type": "execute_result"
    }
   ],
   "source": [
    "df.head()"
   ]
  },
  {
   "cell_type": "code",
   "execution_count": 10,
   "id": "36898530-1bc3-4920-82b3-71ba84cd1b8e",
   "metadata": {
    "ExecuteTime": {
     "end_time": "2024-08-07T12:44:19.734846Z",
     "start_time": "2024-08-07T12:44:17.637036Z"
    },
    "scrolled": true
   },
   "outputs": [
    {
     "data": {
      "text/plain": [
       "<matplotlib.collections.PathCollection at 0x26eb1629750>"
      ]
     },
     "execution_count": 10,
     "metadata": {},
     "output_type": "execute_result"
    },
    {
     "data": {
      "image/png": "[encoded data removed]",
      "text/plain": [
       "<Figure size 640x480 with 1 Axes>"
      ]
     },
     "metadata": {},
     "output_type": "display_data"
    }
   ],
   "source": [
    "plt.scatter(df['cgpa'], df['iq'], c = df['placement'])\n",
    "# yellow - placement atthnd\n",
    "# purple - placement ayeji"
   ]
  },
  {
   "cell_type": "markdown",
   "id": "38c5e8f1-5c65-4975-9668-435c35ce406c",
   "metadata": {},
   "source": [
    "cgpa , iq = independent variable\\\n",
    "placement = dependent variable"
   ]
  },
  {
   "cell_type": "code",
   "execution_count": 11,
   "id": "87642211-3565-42c1-be41-cadc1c305370",
   "metadata": {
    "ExecuteTime": {
     "end_time": "2024-08-07T12:44:34.391352Z",
     "start_time": "2024-08-07T12:44:34.378540Z"
    }
   },
   "outputs": [],
   "source": [
    "x = df.iloc[:,0:2]\n",
    "y = df.iloc[:,-1]"
   ]
  },
  {
   "cell_type": "code",
   "execution_count": 12,
   "id": "c4ff8c18-8689-4f12-9de8-32246cef89d4",
   "metadata": {
    "ExecuteTime": {
     "end_time": "2024-08-07T12:44:36.957551Z",
     "start_time": "2024-08-07T12:44:36.934018Z"
    }
   },
   "outputs": [
    {
     "data": {
      "text/html": [
       "<div>\n",
       "<style scoped>\n",
       "    .dataframe tbody tr th:only-of-type {\n",
       "        vertical-align: middle;\n",
       "    }\n",
       "\n",
       "    .dataframe tbody tr th {\n",
       "        vertical-align: top;\n",
       "    }\n",
       "\n",
       "    .dataframe thead th {\n",
       "        text-align: right;\n",
       "    }\n",
       "</style>\n",
       "<table border=\"1\" class=\"dataframe\">\n",
       "  <thead>\n",
       "    <tr style=\"text-align: right;\">\n",
       "      <th></th>\n",
       "      <th>cgpa</th>\n",
       "      <th>iq</th>\n",
       "    </tr>\n",
       "  </thead>\n",
       "  <tbody>\n",
       "    <tr>\n",
       "      <th>0</th>\n",
       "      <td>6.8</td>\n",
       "      <td>123.0</td>\n",
       "    </tr>\n",
       "    <tr>\n",
       "      <th>1</th>\n",
       "      <td>5.9</td>\n",
       "      <td>106.0</td>\n",
       "    </tr>\n",
       "    <tr>\n",
       "      <th>2</th>\n",
       "      <td>5.3</td>\n",
       "      <td>121.0</td>\n",
       "    </tr>\n",
       "    <tr>\n",
       "      <th>3</th>\n",
       "      <td>7.4</td>\n",
       "      <td>132.0</td>\n",
       "    </tr>\n",
       "    <tr>\n",
       "      <th>4</th>\n",
       "      <td>5.8</td>\n",
       "      <td>142.0</td>\n",
       "    </tr>\n",
       "  </tbody>\n",
       "</table>\n",
       "</div>"
      ],
      "text/plain": [
       "   cgpa     iq\n",
       "0   6.8  123.0\n",
       "1   5.9  106.0\n",
       "2   5.3  121.0\n",
       "3   7.4  132.0\n",
       "4   5.8  142.0"
      ]
     },
     "execution_count": 12,
     "metadata": {},
     "output_type": "execute_result"
    }
   ],
   "source": [
    "x.head() # 2d tensor"
   ]
  },
  {
   "cell_type": "code",
   "execution_count": 13,
   "id": "d593dfd2-80c1-4c05-b24a-f2e3c4a4aabf",
   "metadata": {
    "ExecuteTime": {
     "end_time": "2024-08-07T12:44:42.386874Z",
     "start_time": "2024-08-07T12:44:42.366913Z"
    }
   },
   "outputs": [
    {
     "data": {
      "text/plain": [
       "0    1\n",
       "1    0\n",
       "2    0\n",
       "3    1\n",
       "4    0\n",
       "Name: placement, dtype: int64"
      ]
     },
     "execution_count": 13,
     "metadata": {},
     "output_type": "execute_result"
    }
   ],
   "source": [
    "y.head() # 1d tensor"
   ]
  },
  {
   "cell_type": "code",
   "execution_count": 14,
   "id": "77591aeb-cfe8-488b-a351-dc9b0f1fa5ae",
   "metadata": {
    "ExecuteTime": {
     "end_time": "2024-08-07T12:44:54.104824Z",
     "start_time": "2024-08-07T12:44:46.808439Z"
    }
   },
   "outputs": [],
   "source": [
    "from sklearn.model_selection import train_test_split"
   ]
  },
  {
   "cell_type": "code",
   "execution_count": 15,
   "id": "941649fc-8fa3-4972-809e-5b84c53c99a0",
   "metadata": {
    "ExecuteTime": {
     "end_time": "2024-08-07T12:44:54.133851Z",
     "start_time": "2024-08-07T12:44:54.104824Z"
    }
   },
   "outputs": [],
   "source": [
    "x_train, x_test, y_train, y_test = train_test_split(x,y,test_size = 0.1) # 10% data goes to test"
   ]
  },
  {
   "cell_type": "code",
   "execution_count": 16,
   "id": "1d599d4e-a09c-4253-8105-c3d63be2110a",
   "metadata": {
    "ExecuteTime": {
     "end_time": "2024-08-07T12:44:54.175782Z",
     "start_time": "2024-08-07T12:44:54.133851Z"
    }
   },
   "outputs": [
    {
     "data": {
      "text/html": [
       "<div>\n",
       "<style scoped>\n",
       "    .dataframe tbody tr th:only-of-type {\n",
       "        vertical-align: middle;\n",
       "    }\n",
       "\n",
       "    .dataframe tbody tr th {\n",
       "        vertical-align: top;\n",
       "    }\n",
       "\n",
       "    .dataframe thead th {\n",
       "        text-align: right;\n",
       "    }\n",
       "</style>\n",
       "<table border=\"1\" class=\"dataframe\">\n",
       "  <thead>\n",
       "    <tr style=\"text-align: right;\">\n",
       "      <th></th>\n",
       "      <th>cgpa</th>\n",
       "      <th>iq</th>\n",
       "    </tr>\n",
       "  </thead>\n",
       "  <tbody>\n",
       "    <tr>\n",
       "      <th>14</th>\n",
       "      <td>6.1</td>\n",
       "      <td>103.0</td>\n",
       "    </tr>\n",
       "    <tr>\n",
       "      <th>47</th>\n",
       "      <td>5.2</td>\n",
       "      <td>161.0</td>\n",
       "    </tr>\n",
       "    <tr>\n",
       "      <th>30</th>\n",
       "      <td>7.6</td>\n",
       "      <td>128.0</td>\n",
       "    </tr>\n",
       "    <tr>\n",
       "      <th>15</th>\n",
       "      <td>5.1</td>\n",
       "      <td>176.0</td>\n",
       "    </tr>\n",
       "    <tr>\n",
       "      <th>49</th>\n",
       "      <td>5.4</td>\n",
       "      <td>135.0</td>\n",
       "    </tr>\n",
       "    <tr>\n",
       "      <th>...</th>\n",
       "      <td>...</td>\n",
       "      <td>...</td>\n",
       "    </tr>\n",
       "    <tr>\n",
       "      <th>76</th>\n",
       "      <td>4.9</td>\n",
       "      <td>155.0</td>\n",
       "    </tr>\n",
       "    <tr>\n",
       "      <th>53</th>\n",
       "      <td>8.3</td>\n",
       "      <td>168.0</td>\n",
       "    </tr>\n",
       "    <tr>\n",
       "      <th>6</th>\n",
       "      <td>5.7</td>\n",
       "      <td>143.0</td>\n",
       "    </tr>\n",
       "    <tr>\n",
       "      <th>71</th>\n",
       "      <td>6.1</td>\n",
       "      <td>132.0</td>\n",
       "    </tr>\n",
       "    <tr>\n",
       "      <th>33</th>\n",
       "      <td>6.0</td>\n",
       "      <td>149.0</td>\n",
       "    </tr>\n",
       "  </tbody>\n",
       "</table>\n",
       "<p>90 rows × 2 columns</p>\n",
       "</div>"
      ],
      "text/plain": [
       "    cgpa     iq\n",
       "14   6.1  103.0\n",
       "47   5.2  161.0\n",
       "30   7.6  128.0\n",
       "15   5.1  176.0\n",
       "49   5.4  135.0\n",
       "..   ...    ...\n",
       "76   4.9  155.0\n",
       "53   8.3  168.0\n",
       "6    5.7  143.0\n",
       "71   6.1  132.0\n",
       "33   6.0  149.0\n",
       "\n",
       "[90 rows x 2 columns]"
      ]
     },
     "execution_count": 16,
     "metadata": {},
     "output_type": "execute_result"
    }
   ],
   "source": [
    "x_train"
   ]
  },
  {
   "cell_type": "code",
   "execution_count": 17,
   "id": "e562bd7c-2aaa-4561-9854-0095aaddc8df",
   "metadata": {
    "ExecuteTime": {
     "end_time": "2024-08-07T12:44:56.953714Z",
     "start_time": "2024-08-07T12:44:56.930575Z"
    }
   },
   "outputs": [],
   "source": [
    "from sklearn.preprocessing import StandardScaler"
   ]
  },
  {
   "cell_type": "code",
   "execution_count": 18,
   "id": "7ea05d65-3159-43f1-a7b0-27723793430f",
   "metadata": {
    "ExecuteTime": {
     "end_time": "2024-08-07T12:44:58.702286Z",
     "start_time": "2024-08-07T12:44:58.686989Z"
    }
   },
   "outputs": [],
   "source": [
    "scaler = StandardScaler()"
   ]
  },
  {
   "cell_type": "code",
   "execution_count": 19,
   "id": "2365637a-09a1-4a1d-b098-58da0eec7222",
   "metadata": {
    "ExecuteTime": {
     "end_time": "2024-08-07T12:45:00.410849Z",
     "start_time": "2024-08-07T12:45:00.378913Z"
    }
   },
   "outputs": [],
   "source": [
    "x_train = scaler.fit_transform(x_train)"
   ]
  },
  {
   "cell_type": "code",
   "execution_count": 20,
   "id": "f08656e7-3f4e-4318-800b-474a30ab347c",
   "metadata": {
    "ExecuteTime": {
     "end_time": "2024-08-07T12:45:01.493759Z",
     "start_time": "2024-08-07T12:45:01.475209Z"
    }
   },
   "outputs": [
    {
     "data": {
      "text/plain": [
       "array([[ 0.0920343 , -0.5217251 ],\n",
       "       [-0.67649951,  0.93620051],\n",
       "       [ 1.37292398,  0.10669111],\n",
       "       [-0.76189216,  1.31325024],\n",
       "       [-0.50571422,  0.28264765],\n",
       "       [ 0.68978281, -0.29549527],\n",
       "       [-0.84728481, -0.14467538],\n",
       "       [-0.67649951, -0.34576857],\n",
       "       [ 0.86056811,  1.89139315],\n",
       "       [ 0.86056811, -1.5020544 ],\n",
       "       [ 1.28753133, -1.57746434],\n",
       "       [-0.93267745,  1.81598321],\n",
       "       [ 0.77517546,  0.35805759],\n",
       "       [ 1.11674604,  0.33292094],\n",
       "       [-1.70121126, -1.22555126],\n",
       "       [ 0.43360488, -0.84850154],\n",
       "       [ 0.51899752, -0.09440208],\n",
       "       [ 0.68978281,  0.43346754],\n",
       "       [-0.16414364,  0.45860419],\n",
       "       [ 0.00664165, -0.54686175],\n",
       "       [ 0.26281959,  0.08155446],\n",
       "       [ 0.94596075, -1.90424077],\n",
       "       [-1.0180701 , -0.29549527],\n",
       "       [-0.50571422, -0.24522197],\n",
       "       [ 0.68978281, -0.01899213],\n",
       "       [ 0.86056811,  0.38319424],\n",
       "       [ 1.20213869,  0.2072377 ],\n",
       "       [-1.0180701 ,  0.43346754],\n",
       "       [-0.67649951, -0.84850154],\n",
       "       [ 1.28753133,  0.86079056],\n",
       "       [-0.50571422,  0.38319424],\n",
       "       [ 1.79988721,  1.06188375],\n",
       "       [-1.10346274, -1.80369418],\n",
       "       [-1.44503332,  1.9165298 ],\n",
       "       [ 0.68978281, -0.84850154],\n",
       "       [-1.35964068, -2.05506066],\n",
       "       [ 0.0920343 ,  0.81051727],\n",
       "       [-0.50571422, -0.42117851],\n",
       "       [ 0.00664165, -1.4517811 ],\n",
       "       [ 0.51899752,  0.35805759],\n",
       "       [-1.0180701 ,  1.1372937 ],\n",
       "       [-0.24953629,  1.1372937 ],\n",
       "       [ 0.00664165, -1.97965072],\n",
       "       [ 0.00664165,  0.00614451],\n",
       "       [-0.93267745,  0.68483402],\n",
       "       [-1.10346274, -0.92391148],\n",
       "       [-1.35964068,  0.63456073],\n",
       "       [-0.67649951,  0.2072377 ],\n",
       "       [ 1.37292398, -0.87363818],\n",
       "       [ 0.86056811,  1.28811359],\n",
       "       [ 1.71449456, -1.12500467],\n",
       "       [ 0.0920343 , -1.07473137],\n",
       "       [ 2.14145779, -0.09440208],\n",
       "       [-0.078751  , -0.44631516],\n",
       "       [ 1.11674604, -0.94904813],\n",
       "       [ 0.0920343 , -1.47691775],\n",
       "       [ 0.43360488,  0.15696441],\n",
       "       [-0.16414364,  1.06188375],\n",
       "       [-1.0180701 ,  0.98647381],\n",
       "       [-2.12817449,  2.7460392 ],\n",
       "       [-0.93267745, -0.09440208],\n",
       "       [-2.29895978,  1.48920678],\n",
       "       [ 0.34821223,  0.43346754],\n",
       "       [ 1.11674604, -0.19494867],\n",
       "       [ 0.43360488,  0.91106386],\n",
       "       [-1.18885539,  0.55915078],\n",
       "       [-0.76189216,  0.10669111],\n",
       "       [-1.10346274, -0.06926543],\n",
       "       [-1.78660391, -0.37090521],\n",
       "       [ 1.79988721,  0.63456073],\n",
       "       [ 0.60439017,  1.46407013],\n",
       "       [ 0.26281959,  0.10669111],\n",
       "       [-0.76189216, -1.4517811 ],\n",
       "       [ 0.60439017,  0.76024397],\n",
       "       [-0.24953629,  0.2072377 ],\n",
       "       [-0.93267745,  0.257511  ],\n",
       "       [ 0.94596075,  0.68483402],\n",
       "       [ 1.11674604, -1.85396748],\n",
       "       [-0.93267745, -1.57746434],\n",
       "       [-0.84728481, -0.82336489],\n",
       "       [ 0.43360488, -2.18074391],\n",
       "       [ 0.77517546,  0.38319424],\n",
       "       [ 1.54370927, -0.24522197],\n",
       "       [ 0.86056811, -0.29549527],\n",
       "       [-1.70121126, -0.59713505],\n",
       "       [-0.93267745,  0.78538062],\n",
       "       [ 1.9706725 ,  1.11215705],\n",
       "       [-0.24953629,  0.48374084],\n",
       "       [ 0.0920343 ,  0.2072377 ],\n",
       "       [ 0.00664165,  0.63456073]])"
      ]
     },
     "execution_count": 20,
     "metadata": {},
     "output_type": "execute_result"
    }
   ],
   "source": [
    "x_train"
   ]
  },
  {
   "cell_type": "code",
   "execution_count": 21,
   "id": "63f9702d-a269-485d-b1f6-e9adaadecfb7",
   "metadata": {
    "ExecuteTime": {
     "end_time": "2024-08-07T12:45:03.423561Z",
     "start_time": "2024-08-07T12:45:03.408938Z"
    }
   },
   "outputs": [],
   "source": [
    "x_test = scaler.transform(x_test)"
   ]
  },
  {
   "cell_type": "code",
   "execution_count": 22,
   "id": "081bf740-b604-43a0-9211-ffb045d77fa2",
   "metadata": {
    "ExecuteTime": {
     "end_time": "2024-08-07T12:45:05.264864Z",
     "start_time": "2024-08-07T12:45:04.981181Z"
    }
   },
   "outputs": [],
   "source": [
    "from sklearn.linear_model import LogisticRegression"
   ]
  },
  {
   "cell_type": "code",
   "execution_count": 23,
   "id": "cf9301b7-492a-4dc0-8fb8-de46b086a365",
   "metadata": {
    "ExecuteTime": {
     "end_time": "2024-08-07T12:45:06.773045Z",
     "start_time": "2024-08-07T12:45:06.758624Z"
    }
   },
   "outputs": [],
   "source": [
    "clf = LogisticRegression()"
   ]
  },
  {
   "cell_type": "code",
   "execution_count": 24,
   "id": "0a8e74d6-13ff-44a4-a2a4-bb67549c5225",
   "metadata": {
    "ExecuteTime": {
     "end_time": "2024-08-07T12:45:08.235895Z",
     "start_time": "2024-08-07T12:45:08.164713Z"
    }
   },
   "outputs": [
    {
     "data": {
      "text/html": [
       "<style>#sk-container-id-1 {color: black;}#sk-container-id-1 pre{padding: 0;}#sk-container-id-1 div.sk-toggleable {background-color: white;}#sk-container-id-1 label.sk-toggleable__label {cursor: pointer;display: block;width: 100%;margin-bottom: 0;padding: 0.3em;box-sizing: border-box;text-align: center;}#sk-container-id-1 label.sk-toggleable__label-arrow:before {content: \"▸\";float: left;margin-right: 0.25em;color: #696969;}#sk-container-id-1 label.sk-toggleable__label-arrow:hover:before {color: black;}#sk-container-id-1 div.sk-estimator:hover label.sk-toggleable__label-arrow:before {color: black;}#sk-container-id-1 div.sk-toggleable__content {max-height: 0;max-width: 0;overflow: hidden;text-align: left;background-color: #f0f8ff;}#sk-container-id-1 div.sk-toggleable__content pre {margin: 0.2em;color: black;border-radius: 0.25em;background-color: #f0f8ff;}#sk-container-id-1 input.sk-toggleable__control:checked~div.sk-toggleable__content {max-height: 200px;max-width: 100%;overflow: auto;}#sk-container-id-1 input.sk-toggleable__control:checked~label.sk-toggleable__label-arrow:before {content: \"▾\";}#sk-container-id-1 div.sk-estimator input.sk-toggleable__control:checked~label.sk-toggleable__label {background-color: #d4ebff;}#sk-container-id-1 div.sk-label input.sk-toggleable__control:checked~label.sk-toggleable__label {background-color: #d4ebff;}#sk-container-id-1 input.sk-hidden--visually {border: 0;clip: rect(1px 1px 1px 1px);clip: rect(1px, 1px, 1px, 1px);height: 1px;margin: -1px;overflow: hidden;padding: 0;position: absolute;width: 1px;}#sk-container-id-1 div.sk-estimator {font-family: monospace;background-color: #f0f8ff;border: 1px dotted black;border-radius: 0.25em;box-sizing: border-box;margin-bottom: 0.5em;}#sk-container-id-1 div.sk-estimator:hover {background-color: #d4ebff;}#sk-container-id-1 div.sk-parallel-item::after {content: \"\";width: 100%;border-bottom: 1px solid gray;flex-grow: 1;}#sk-container-id-1 div.sk-label:hover label.sk-toggleable__label {background-color: #d4ebff;}#sk-container-id-1 div.sk-serial::before {content: \"\";position: absolute;border-left: 1px solid gray;box-sizing: border-box;top: 0;bottom: 0;left: 50%;z-index: 0;}#sk-container-id-1 div.sk-serial {display: flex;flex-direction: column;align-items: center;background-color: white;padding-right: 0.2em;padding-left: 0.2em;position: relative;}#sk-container-id-1 div.sk-item {position: relative;z-index: 1;}#sk-container-id-1 div.sk-parallel {display: flex;align-items: stretch;justify-content: center;background-color: white;position: relative;}#sk-container-id-1 div.sk-item::before, #sk-container-id-1 div.sk-parallel-item::before {content: \"\";position: absolute;border-left: 1px solid gray;box-sizing: border-box;top: 0;bottom: 0;left: 50%;z-index: -1;}#sk-container-id-1 div.sk-parallel-item {display: flex;flex-direction: column;z-index: 1;position: relative;background-color: white;}#sk-container-id-1 div.sk-parallel-item:first-child::after {align-self: flex-end;width: 50%;}#sk-container-id-1 div.sk-parallel-item:last-child::after {align-self: flex-start;width: 50%;}#sk-container-id-1 div.sk-parallel-item:only-child::after {width: 0;}#sk-container-id-1 div.sk-dashed-wrapped {border: 1px dashed gray;margin: 0 0.4em 0.5em 0.4em;box-sizing: border-box;padding-bottom: 0.4em;background-color: white;}#sk-container-id-1 div.sk-label label {font-family: monospace;font-weight: bold;display: inline-block;line-height: 1.2em;}#sk-container-id-1 div.sk-label-container {text-align: center;}#sk-container-id-1 div.sk-container {/* jupyter's `normalize.less` sets `[hidden] { display: none; }` but bootstrap.min.css set `[hidden] { display: none !important; }` so we also need the `!important` here to be able to override the default hidden behavior on the sphinx rendered scikit-learn.org. See: https://github.com/scikit-learn/scikit-learn/issues/21755 */display: inline-block !important;position: relative;}#sk-container-id-1 div.sk-text-repr-fallback {display: none;}</style><div id=\"sk-container-id-1\" class=\"sk-top-container\"><div class=\"sk-text-repr-fallback\"><pre>LogisticRegression()</pre><b>In a Jupyter environment, please rerun this cell to show the HTML representation or trust the notebook. <br />On GitHub, the HTML representation is unable to render, please try loading this page with nbviewer.org.</b></div><div class=\"sk-container\" hidden><div class=\"sk-item\"><div class=\"sk-estimator sk-toggleable\"><input class=\"sk-toggleable__control sk-hidden--visually\" id=\"sk-estimator-id-1\" type=\"checkbox\" checked><label for=\"sk-estimator-id-1\" class=\"sk-toggleable__label sk-toggleable__label-arrow\">LogisticRegression</label><div class=\"sk-toggleable__content\"><pre>LogisticRegression()</pre></div></div></div></div></div>"
      ],
      "text/plain": [
       "LogisticRegression()"
      ]
     },
     "execution_count": 24,
     "metadata": {},
     "output_type": "execute_result"
    }
   ],
   "source": [
    "clf.fit(x_train, y_train) # used to train model by providing training data"
   ]
  },
  {
   "cell_type": "markdown",
   "id": "97cd71ee-bce4-427b-a1f6-cac43c79b155",
   "metadata": {},
   "source": [
    "## model evaluation"
   ]
  },
  {
   "cell_type": "code",
   "execution_count": 25,
   "id": "fa01238b-5f3e-4ed5-88a4-204fddd0c3b9",
   "metadata": {
    "ExecuteTime": {
     "end_time": "2024-08-07T12:45:11.116389Z",
     "start_time": "2024-08-07T12:45:11.088964Z"
    }
   },
   "outputs": [],
   "source": [
    "y_pred = clf.predict(x_test)"
   ]
  },
  {
   "cell_type": "code",
   "execution_count": 26,
   "id": "5fa50e95-5863-4b2e-90b8-2d0a592239d7",
   "metadata": {
    "ExecuteTime": {
     "end_time": "2024-08-07T12:45:12.340675Z",
     "start_time": "2024-08-07T12:45:12.298656Z"
    }
   },
   "outputs": [
    {
     "data": {
      "text/plain": [
       "36    0\n",
       "16    0\n",
       "7     0\n",
       "46    0\n",
       "13    1\n",
       "98    1\n",
       "2     0\n",
       "66    1\n",
       "83    1\n",
       "99    1\n",
       "Name: placement, dtype: int64"
      ]
     },
     "execution_count": 26,
     "metadata": {},
     "output_type": "execute_result"
    }
   ],
   "source": [
    "y_test"
   ]
  },
  {
   "cell_type": "code",
   "execution_count": 27,
   "id": "6a5e6cf9-5ae4-467b-8d84-171e2783a52f",
   "metadata": {
    "ExecuteTime": {
     "end_time": "2024-08-07T12:45:15.079838Z",
     "start_time": "2024-08-07T12:45:15.065362Z"
    }
   },
   "outputs": [],
   "source": [
    "from sklearn.metrics import accuracy_score"
   ]
  },
  {
   "cell_type": "code",
   "execution_count": 30,
   "id": "c4c8dcd2-53b3-4336-af3c-232d40b9843e",
   "metadata": {
    "ExecuteTime": {
     "end_time": "2024-08-07T12:45:52.615708Z",
     "start_time": "2024-08-07T12:45:52.537077Z"
    }
   },
   "outputs": [
    {
     "data": {
      "text/plain": [
       "1.0"
      ]
     },
     "execution_count": 30,
     "metadata": {},
     "output_type": "execute_result"
    }
   ],
   "source": [
    "accuracy_score(y_test, y_pred) # 0.9 => 90% accuracy"
   ]
  },
  {
   "cell_type": "code",
   "execution_count": 31,
   "id": "d357b23c-1bc0-46e7-adaf-f8fd5e2c9956",
   "metadata": {
    "ExecuteTime": {
     "end_time": "2024-08-07T12:45:56.058386Z",
     "start_time": "2024-08-07T12:45:56.039974Z"
    }
   },
   "outputs": [],
   "source": [
    "from mlxtend.plotting import plot_decision_regions"
   ]
  },
  {
   "cell_type": "code",
   "execution_count": 32,
   "id": "ec86e513-8ce1-44e8-9fd1-ee3fb8b336a8",
   "metadata": {
    "ExecuteTime": {
     "end_time": "2024-08-07T12:46:04.297195Z",
     "start_time": "2024-08-07T12:46:04.288870Z"
    }
   },
   "outputs": [],
   "source": [
    "## !pip install mlxtend"
   ]
  },
  {
   "cell_type": "code",
   "execution_count": 33,
   "id": "dd7ba463-e8a4-4760-b211-ceacf5c583d4",
   "metadata": {
    "ExecuteTime": {
     "end_time": "2024-08-07T12:46:07.645141Z",
     "start_time": "2024-08-07T12:46:05.771738Z"
    }
   },
   "outputs": [
    {
     "data": {
      "text/plain": [
       "<Axes: >"
      ]
     },
     "execution_count": 33,
     "metadata": {},
     "output_type": "execute_result"
    },
    {
     "data": {
      "image/png": "[encoded data removed]",
      "text/plain": [
       "<Figure size 640x480 with 1 Axes>"
      ]
     },
     "metadata": {},
     "output_type": "display_data"
    }
   ],
   "source": [
    "plot_decision_regions(x_train, y_train.values, clf = clf, legend = 2 )"
   ]
  },
  {
   "cell_type": "code",
   "execution_count": 34,
   "id": "9987f0cc-e758-40a6-ab79-85bb5f34b9bc",
   "metadata": {
    "ExecuteTime": {
     "end_time": "2024-08-07T12:46:12.268816Z",
     "start_time": "2024-08-07T12:46:12.256643Z"
    }
   },
   "outputs": [],
   "source": [
    "import pickle # converts an object to a file which can be later used to deploy in a website"
   ]
  },
  {
   "cell_type": "code",
   "execution_count": 35,
   "id": "0536dae8-6396-4a35-adcb-69023a679754",
   "metadata": {
    "ExecuteTime": {
     "end_time": "2024-08-07T12:46:13.525337Z",
     "start_time": "2024-08-07T12:46:13.495190Z"
    }
   },
   "outputs": [],
   "source": [
    "pickle.dump(clf, open('model.pkl', 'wb'))"
   ]
  },
  {
   "cell_type": "markdown",
   "id": "62fddb02-08a5-46b4-92a3-c0fe63398701",
   "metadata": {},
   "source": [
    "<img src = 'http://localhost:8889/kernelspecs/python3/logo-64x64.png' />"
   ]
  },
  {
   "cell_type": "code",
   "execution_count": null,
   "id": "1d89d081-e4eb-4677-9901-83583d038171",
   "metadata": {},
   "outputs": [],
   "source": []
  }
 ],
 "metadata": {
  "kernelspec": {
   "display_name": "Python 3 (ipykernel)",
   "language": "python",
   "name": "python3"
  },
  "language_info": {
   "codemirror_mode": {
    "name": "ipython",
    "version": 3
   },
   "file_extension": ".py",
   "mimetype": "text/x-python",
   "name": "python",
   "nbconvert_exporter": "python",
   "pygments_lexer": "ipython3",
   "version": "3.11.5"
  }
 },
 "nbformat": 4,
 "nbformat_minor": 5
}
