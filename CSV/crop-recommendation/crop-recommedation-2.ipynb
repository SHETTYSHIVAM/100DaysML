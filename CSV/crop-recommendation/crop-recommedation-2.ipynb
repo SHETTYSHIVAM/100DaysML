{
 "cells": [
  {
   "cell_type": "code",
   "execution_count": 1,
   "id": "eb889d96-da16-47e8-92d4-fa7751de64e2",
   "metadata": {},
   "outputs": [],
   "source": [
    "# Import KNN, SVM, Decision Tree, Logistic Regression, Naive Bayes, Linear Regression, GBM, and Random Forest\n",
    "from sklearn.neighbors import KNeighborsClassifier  # k-Nearest Neighbors (KNN)\n",
    "from sklearn.svm import SVC  # Support Vector Machine (SVM)\n",
    "from sklearn.tree import DecisionTreeClassifier  # Decision Tree Classifier\n",
    "from sklearn.linear_model import LogisticRegression  # Logistic Regression\n",
    "from sklearn.naive_bayes import GaussianNB  # Naive Bayes\n",
    "from sklearn.ensemble import GradientBoostingClassifier  # Gradient Boosting Machine (GBM)\n",
    "from sklearn.ensemble import RandomForestClassifier  # Random Forest Classifier\n",
    "from sklearn.pipeline import Pipeline\n",
    "from sklearn.preprocessing import StandardScaler, OneHotEncoder\n",
    "\n",
    "from sklearn.model_selection import train_test_split\n",
    "from sklearn.metrics import accuracy_score\n",
    "\n",
    "import pandas as pd\n",
    "from sklearn.compose import ColumnTransformer"
   ]
  },
  {
   "cell_type": "code",
   "execution_count": 2,
   "id": "e9601633-25ad-4bfb-8de0-43fc937c081c",
   "metadata": {},
   "outputs": [],
   "source": [
    "# Example model instantiations\n",
    "knn_model = KNeighborsClassifier()\n",
    "svm_model = SVC()\n",
    "decision_tree_model = DecisionTreeClassifier()\n",
    "logistic_regression_model = LogisticRegression()\n",
    "naive_bayes_model = GaussianNB()\n",
    "gbm_model = GradientBoostingClassifier()\n",
    "random_forest_model = RandomForestClassifier()"
   ]
  },
  {
   "cell_type": "code",
   "execution_count": 3,
   "id": "d5f31759-5090-49e1-9d6b-3a3b38773e24",
   "metadata": {},
   "outputs": [],
   "source": [
    "models_dict = {\n",
    "    'knn_model': knn_model,\n",
    "    'svm_model': svm_model,\n",
    "    'decision_tree_model': decision_tree_model,\n",
    "    'logistic_regression_model': logistic_regression_model,\n",
    "    'naive_bayes_model': naive_bayes_model,\n",
    "    'gbm_model': gbm_model,\n",
    "    'RandomForestClassifier': random_forest_model\n",
    "}"
   ]
  },
  {
   "cell_type": "code",
   "execution_count": 4,
   "id": "1dab492b-619d-46c3-83b2-dd597ccd8f23",
   "metadata": {},
   "outputs": [],
   "source": [
    "trf2 = ColumnTransformer(transformers=[\n",
    "    ('ohe_label', OneHotEncoder(handle_unknown='ignore'), [-1]),\n",
    "], remainder='passthrough')"
   ]
  },
  {
   "cell_type": "code",
   "execution_count": 5,
   "id": "76f303da-f85a-4886-906e-97460e66df44",
   "metadata": {},
   "outputs": [],
   "source": [
    "df = pd.read_csv(\"Crop_recommendation.csv\")"
   ]
  },
  {
   "cell_type": "code",
   "execution_count": 6,
   "id": "fe84b24b-7693-432d-b1ae-1abccf560ad1",
   "metadata": {},
   "outputs": [],
   "source": [
    "x_train, x_test, y_train, y_test = train_test_split(\n",
    "    df.drop(columns='label'),\n",
    "    df['label'],\n",
    "    test_size=0.2\n",
    ")"
   ]
  },
  {
   "cell_type": "code",
   "execution_count": 7,
   "id": "c77e7715-1ebc-4a53-beb3-4c41268d2a2c",
   "metadata": {},
   "outputs": [],
   "source": [
    "from sklearn.preprocessing import MinMaxScaler\n",
    "mx = MinMaxScaler()\n",
    "x_train = mx.fit_transform(x_train)\n",
    "x_test = mx.transform(x_test)"
   ]
  },
  {
   "cell_type": "code",
   "execution_count": 8,
   "id": "49ac0c2e-c431-4416-8177-f85bc8c994b6",
   "metadata": {},
   "outputs": [
    {
     "name": "stdout",
     "output_type": "stream",
     "text": [
      "knn_model mode with accuracy: 0.9818181818181818\n",
      "svm_model mode with accuracy: 0.9795454545454545\n",
      "decision_tree_model mode with accuracy: 0.990909090909091\n",
      "logistic_regression_model mode with accuracy: 0.9613636363636363\n",
      "naive_bayes_model mode with accuracy: 0.9931818181818182\n",
      "gbm_model mode with accuracy: 0.9886363636363636\n",
      "RandomForestClassifier mode with accuracy: 0.9931818181818182\n"
     ]
    }
   ],
   "source": [
    "for name, model in models_dict.items():\n",
    "    model.fit(x_train, y_train)\n",
    "    y_pred = model.predict(x_test)\n",
    "    score = accuracy_score(y_test, y_pred)\n",
    "    print(f\"{name} mode with accuracy: {score}\")"
   ]
  },
  {
   "cell_type": "code",
   "execution_count": 9,
   "id": "9f866100-3213-4337-a6f9-91c215454dd5",
   "metadata": {},
   "outputs": [
    {
     "name": "stdout",
     "output_type": "stream",
     "text": [
      "\"knn_model\" : \"models/knn_model.pkl\",\n",
      "\"svm_model\" : \"models/svm_model.pkl\",\n",
      "\"decision_tree_model\" : \"models/decision_tree_model.pkl\",\n",
      "\"logistic_regression_model\" : \"models/logistic_regression_model.pkl\",\n",
      "\"naive_bayes_model\" : \"models/naive_bayes_model.pkl\",\n",
      "\"gbm_model\" : \"models/gbm_model.pkl\",\n",
      "\"RandomForestClassifier\" : \"models/RandomForestClassifier.pkl\",\n"
     ]
    }
   ],
   "source": [
    "import pickle\n",
    "for model_name, model in models_dict.items():\n",
    "    print(f'\"{model_name}\" : \"models/{model_name}.pkl\",')\n",
    "    file = pickle.dump(model, open(f'models/{model_name}.pkl', 'wb'))"
   ]
  },
  {
   "cell_type": "code",
   "execution_count": null,
   "id": "acee615e-88b4-4be1-894e-9c4622e6a82e",
   "metadata": {},
   "outputs": [],
   "source": []
  }
 ],
 "metadata": {
  "kernelspec": {
   "display_name": "Python 3 (ipykernel)",
   "language": "python",
   "name": "python3"
  },
  "language_info": {
   "codemirror_mode": {
    "name": "ipython",
    "version": 3
   },
   "file_extension": ".py",
   "mimetype": "text/x-python",
   "name": "python",
   "nbconvert_exporter": "python",
   "pygments_lexer": "ipython3",
   "version": "3.11.5"
  }
 },
 "nbformat": 4,
 "nbformat_minor": 5
}
