{
 "cells": [
  {
   "cell_type": "code",
   "execution_count": null,
   "id": "e441c511-c383-4ef5-b088-47ed95dd966c",
   "metadata": {},
   "outputs": [],
   "source": []
  }
 ],
 "metadata": {
  "kernelspec": {
   "display_name": "",
   "name": ""
  },
  "language_info": {
   "name": ""
  }
 },
 "nbformat": 4,
 "nbformat_minor": 5
}
